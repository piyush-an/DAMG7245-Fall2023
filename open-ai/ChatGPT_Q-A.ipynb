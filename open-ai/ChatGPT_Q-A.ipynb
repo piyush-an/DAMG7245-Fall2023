{
  "nbformat": 4,
  "nbformat_minor": 0,
  "metadata": {
    "colab": {
      "provenance": [],
      "authorship_tag": "ABX9TyNdjTsIhIgFp1MPQw7fzCj6",
      "include_colab_link": true
    },
    "kernelspec": {
      "name": "python3",
      "display_name": "Python 3"
    },
    "language_info": {
      "name": "python"
    }
  },
  "cells": [
    {
      "cell_type": "markdown",
      "metadata": {
        "id": "view-in-github",
        "colab_type": "text"
      },
      "source": [
        "<a href=\"https://colab.research.google.com/github/piyush-an/DAMG7245-Fall2023/blob/main/open-ai/ChatGPT_Q-A.ipynb\" target=\"_parent\"><img src=\"https://colab.research.google.com/assets/colab-badge.svg\" alt=\"Open In Colab\"/></a>"
      ]
    },
    {
      "cell_type": "markdown",
      "source": [
        "## Install Dependency"
      ],
      "metadata": {
        "id": "SDjwFEZHed3K"
      }
    },
    {
      "cell_type": "code",
      "execution_count": 1,
      "metadata": {
        "id": "Da5yZ4MfWYc1",
        "outputId": "1c076bbf-acd4-4880-a1f5-68f46b82e813",
        "colab": {
          "base_uri": "https://localhost:8080/"
        }
      },
      "outputs": [
        {
          "output_type": "stream",
          "name": "stdout",
          "text": [
            "Collecting openai\n",
            "  Downloading openai-0.28.1-py3-none-any.whl (76 kB)\n",
            "     ━━━━━━━━━━━━━━━━━━━━━━━━━━━━━━━━━━━━━━━━ 77.0/77.0 kB 2.1 MB/s eta 0:00:00\n",
            "Requirement already satisfied: requests>=2.20 in /usr/local/lib/python3.10/dist-packages (from openai) (2.31.0)\n",
            "Requirement already satisfied: tqdm in /usr/local/lib/python3.10/dist-packages (from openai) (4.66.1)\n",
            "Requirement already satisfied: aiohttp in /usr/local/lib/python3.10/dist-packages (from openai) (3.8.5)\n",
            "Requirement already satisfied: charset-normalizer<4,>=2 in /usr/local/lib/python3.10/dist-packages (from requests>=2.20->openai) (3.3.0)\n",
            "Requirement already satisfied: idna<4,>=2.5 in /usr/local/lib/python3.10/dist-packages (from requests>=2.20->openai) (3.4)\n",
            "Requirement already satisfied: urllib3<3,>=1.21.1 in /usr/local/lib/python3.10/dist-packages (from requests>=2.20->openai) (2.0.6)\n",
            "Requirement already satisfied: certifi>=2017.4.17 in /usr/local/lib/python3.10/dist-packages (from requests>=2.20->openai) (2023.7.22)\n",
            "Requirement already satisfied: attrs>=17.3.0 in /usr/local/lib/python3.10/dist-packages (from aiohttp->openai) (23.1.0)\n",
            "Requirement already satisfied: multidict<7.0,>=4.5 in /usr/local/lib/python3.10/dist-packages (from aiohttp->openai) (6.0.4)\n",
            "Requirement already satisfied: async-timeout<5.0,>=4.0.0a3 in /usr/local/lib/python3.10/dist-packages (from aiohttp->openai) (4.0.3)\n",
            "Requirement already satisfied: yarl<2.0,>=1.0 in /usr/local/lib/python3.10/dist-packages (from aiohttp->openai) (1.9.2)\n",
            "Requirement already satisfied: frozenlist>=1.1.1 in /usr/local/lib/python3.10/dist-packages (from aiohttp->openai) (1.4.0)\n",
            "Requirement already satisfied: aiosignal>=1.1.2 in /usr/local/lib/python3.10/dist-packages (from aiohttp->openai) (1.3.1)\n",
            "Installing collected packages: openai\n",
            "Successfully installed openai-0.28.1\n"
          ]
        }
      ],
      "source": [
        "%%bash\n",
        "\n",
        "pip install openai"
      ]
    },
    {
      "cell_type": "code",
      "source": [
        "import os\n",
        "import getpass\n",
        "import openai"
      ],
      "metadata": {
        "id": "HpEQBZQOW-ta"
      },
      "execution_count": 2,
      "outputs": []
    },
    {
      "cell_type": "markdown",
      "source": [
        "## OpenAI API Key\n",
        "\n",
        "get the Api key from https://help.openai.com/en/articles/4936850-where-do-i-find-my-secret-api-key"
      ],
      "metadata": {
        "id": "cTFxjUoWehf-"
      }
    },
    {
      "cell_type": "code",
      "source": [
        "os.environ['OPENAI_API_KEY'] = getpass.getpass()"
      ],
      "metadata": {
        "colab": {
          "base_uri": "https://localhost:8080/"
        },
        "id": "_okbq2gSYUAy",
        "outputId": "4cf499e1-d1cd-4378-ed6b-6112a902afea"
      },
      "execution_count": 3,
      "outputs": [
        {
          "name": "stdout",
          "output_type": "stream",
          "text": [
            "··········\n"
          ]
        }
      ]
    },
    {
      "cell_type": "markdown",
      "source": [
        "## Define the context / data"
      ],
      "metadata": {
        "id": "k5nj3T47e01m"
      }
    },
    {
      "cell_type": "code",
      "source": [
        "# Source : https://en.wikipedia.org/wiki/2023_Cricket_World_Cup\n",
        "text = \"\"\"\n",
        "The 2023 ICC Men's Cricket World Cup is the 13th edition of the Cricket World Cup, a quadrennial One Day International (ODI) cricket tournament contested by men's national teams and organised by the International Cricket Council (ICC). The tournament is being hosted by India, it started on 5 October and is scheduled to conclude on 19 November 2023. England are the defending champions, having won the 2019 edition by defeating New Zealand in the final at Lord's, London.\n",
        "Ten national teams are participating. All had to qualify for the tournament though the 2023 Cricket World Cup qualification process. India qualified as hosts; Afghanistan, Australia, Bangladesh, England, New Zealand, Pakistan and South Africa qualified via the ICC Cricket World Cup Super League, with the Netherlands and Sri Lanka securing the final two places via the qualifier tournament in Zimbabwe during June and July 2023, with West Indies missing out on qualification for the first time in their history.[1]\n",
        "It is the first men's Cricket World Cup which India is hosting solely. They co-hosted 1987, 1996 and 2011 editions with other nations. The tournament is taking place in ten different stadiums, in ten cities across India. The first and second semi-finals will be held at Wankhede Stadium in Mumbai and Eden Gardens in Kolkata respectively, while the final will take place at Narendra Modi Stadium, Ahmedabad.\n",
        "\"\"\""
      ],
      "metadata": {
        "id": "c1oSDlqMXawE"
      },
      "execution_count": 4,
      "outputs": []
    },
    {
      "cell_type": "code",
      "source": [
        "openai.api_key = os.environ.get('OPENAI_API_KEY')"
      ],
      "metadata": {
        "id": "XaB5TFbUhlEs"
      },
      "execution_count": 5,
      "outputs": []
    },
    {
      "cell_type": "code",
      "source": [
        "def ask(text, question):\n",
        "  response = openai.ChatCompletion.create(\n",
        "    model=\"gpt-3.5-turbo\",\n",
        "    messages=[\n",
        "      {\n",
        "        \"role\": \"system\",\n",
        "        \"content\": \"Use the provided articles delimited by triple quotes to answer questions. If the answer cannot be found in the articles, write \\\"I could not find an answer.\\\"\"\n",
        "      },\n",
        "      {\n",
        "        \"role\": \"user\",\n",
        "        \"content\": f\"\\\"\\\"\\\"\\n{text}\\n\\\"\\\"\\\"\\n\\nQuestion: {question}\"\n",
        "      }\n",
        "    ],\n",
        "    max_tokens=256,\n",
        "    top_p=1,\n",
        "    frequency_penalty=0,\n",
        "    presence_penalty=0\n",
        "  )\n",
        "  print(\"===================\")\n",
        "  print(response)\n",
        "  print(\"===================\")\n",
        "  print(response['choices'][0]['message']['content'])\n",
        "  print(\"===================\")\n"
      ],
      "metadata": {
        "id": "prd-pVGJlsC0"
      },
      "execution_count": 6,
      "outputs": []
    },
    {
      "cell_type": "code",
      "source": [
        "response = ask(text, \"Which country is hosting the world cup?\")"
      ],
      "metadata": {
        "colab": {
          "base_uri": "https://localhost:8080/"
        },
        "id": "kIj1Yo1umRDv",
        "outputId": "66378684-b3c4-4d69-8415-7bb77e2cf730"
      },
      "execution_count": 7,
      "outputs": [
        {
          "output_type": "stream",
          "name": "stdout",
          "text": [
            "===================\n",
            "{\n",
            "  \"id\": \"chatcmpl-88Y6pyL23hyB6rYhqE7f4rr4R8TKz\",\n",
            "  \"object\": \"chat.completion\",\n",
            "  \"created\": 1697048431,\n",
            "  \"model\": \"gpt-3.5-turbo-0613\",\n",
            "  \"choices\": [\n",
            "    {\n",
            "      \"index\": 0,\n",
            "      \"message\": {\n",
            "        \"role\": \"assistant\",\n",
            "        \"content\": \"India is hosting the 2023 ICC Men's Cricket World Cup.\"\n",
            "      },\n",
            "      \"finish_reason\": \"stop\"\n",
            "    }\n",
            "  ],\n",
            "  \"usage\": {\n",
            "    \"prompt_tokens\": 344,\n",
            "    \"completion_tokens\": 14,\n",
            "    \"total_tokens\": 358\n",
            "  }\n",
            "}\n",
            "===================\n",
            "India is hosting the 2023 ICC Men's Cricket World Cup.\n",
            "===================\n"
          ]
        }
      ]
    },
    {
      "cell_type": "code",
      "source": [
        "response = ask(text, \"When did the apollo 11 reached moon?\")"
      ],
      "metadata": {
        "colab": {
          "base_uri": "https://localhost:8080/"
        },
        "id": "mLWubnoJnDR6",
        "outputId": "4c123db2-34c5-46df-a29b-66d49ef738be"
      },
      "execution_count": 8,
      "outputs": [
        {
          "output_type": "stream",
          "name": "stdout",
          "text": [
            "===================\n",
            "{\n",
            "  \"id\": \"chatcmpl-88Y7CW0LXsVCQdgqTlPvuBPboQqfO\",\n",
            "  \"object\": \"chat.completion\",\n",
            "  \"created\": 1697048454,\n",
            "  \"model\": \"gpt-3.5-turbo-0613\",\n",
            "  \"choices\": [\n",
            "    {\n",
            "      \"index\": 0,\n",
            "      \"message\": {\n",
            "        \"role\": \"assistant\",\n",
            "        \"content\": \"I could not find an answer.\"\n",
            "      },\n",
            "      \"finish_reason\": \"stop\"\n",
            "    }\n",
            "  ],\n",
            "  \"usage\": {\n",
            "    \"prompt_tokens\": 346,\n",
            "    \"completion_tokens\": 7,\n",
            "    \"total_tokens\": 353\n",
            "  }\n",
            "}\n",
            "===================\n",
            "I could not find an answer.\n",
            "===================\n"
          ]
        }
      ]
    },
    {
      "cell_type": "code",
      "source": [],
      "metadata": {
        "id": "5EAj-8XF-GOR"
      },
      "execution_count": null,
      "outputs": []
    }
  ]
}