{
 "cells": [
  {
   "cell_type": "markdown",
   "metadata": {},
   "source": [
    "# Great Expectation - LocalFS\n",
    "\n",
    "## Install & Import Dependency"
   ]
  },
  {
   "cell_type": "code",
   "execution_count": 1,
   "metadata": {},
   "outputs": [
    {
     "name": "stdout",
     "output_type": "stream",
     "text": [
      "Requirement already satisfied: great_expectations[s3] in /home/anku/sandbox/DAMG7245-Fall2023/.venv/lib/python3.10/site-packages (0.17.19)\n",
      "Requirement already satisfied: altair<5.0.0,>=4.2.1 in /home/anku/sandbox/DAMG7245-Fall2023/.venv/lib/python3.10/site-packages (from great_expectations[s3]) (4.2.2)\n",
      "Requirement already satisfied: Click!=8.1.4,>=7.1.2 in /home/anku/sandbox/DAMG7245-Fall2023/.venv/lib/python3.10/site-packages (from great_expectations[s3]) (8.1.7)\n",
      "Requirement already satisfied: colorama>=0.4.3 in /home/anku/sandbox/DAMG7245-Fall2023/.venv/lib/python3.10/site-packages (from great_expectations[s3]) (0.4.6)\n",
      "Requirement already satisfied: cryptography>=3.2 in /home/anku/sandbox/DAMG7245-Fall2023/.venv/lib/python3.10/site-packages (from great_expectations[s3]) (41.0.4)\n",
      "Requirement already satisfied: Ipython>=7.16.3 in /home/anku/sandbox/DAMG7245-Fall2023/.venv/lib/python3.10/site-packages (from great_expectations[s3]) (8.15.0)\n",
      "Requirement already satisfied: ipywidgets>=7.5.1 in /home/anku/sandbox/DAMG7245-Fall2023/.venv/lib/python3.10/site-packages (from great_expectations[s3]) (8.1.1)\n",
      "Requirement already satisfied: jinja2>=2.10 in /home/anku/sandbox/DAMG7245-Fall2023/.venv/lib/python3.10/site-packages (from great_expectations[s3]) (3.1.2)\n",
      "Requirement already satisfied: jsonpatch>=1.22 in /home/anku/sandbox/DAMG7245-Fall2023/.venv/lib/python3.10/site-packages (from great_expectations[s3]) (1.33)\n",
      "Requirement already satisfied: jsonschema>=2.5.1 in /home/anku/sandbox/DAMG7245-Fall2023/.venv/lib/python3.10/site-packages (from great_expectations[s3]) (4.19.1)\n",
      "Requirement already satisfied: makefun<2,>=1.7.0 in /home/anku/sandbox/DAMG7245-Fall2023/.venv/lib/python3.10/site-packages (from great_expectations[s3]) (1.15.1)\n",
      "Requirement already satisfied: marshmallow<4.0.0,>=3.7.1 in /home/anku/sandbox/DAMG7245-Fall2023/.venv/lib/python3.10/site-packages (from great_expectations[s3]) (3.20.1)\n",
      "Requirement already satisfied: mistune>=0.8.4 in /home/anku/sandbox/DAMG7245-Fall2023/.venv/lib/python3.10/site-packages (from great_expectations[s3]) (3.0.1)\n",
      "Requirement already satisfied: nbformat>=5.0 in /home/anku/sandbox/DAMG7245-Fall2023/.venv/lib/python3.10/site-packages (from great_expectations[s3]) (5.9.2)\n",
      "Requirement already satisfied: notebook>=6.4.10 in /home/anku/sandbox/DAMG7245-Fall2023/.venv/lib/python3.10/site-packages (from great_expectations[s3]) (7.0.4)\n",
      "Requirement already satisfied: packaging in /home/anku/sandbox/DAMG7245-Fall2023/.venv/lib/python3.10/site-packages (from great_expectations[s3]) (23.1)\n",
      "Requirement already satisfied: pydantic>=1.9.2 in /home/anku/sandbox/DAMG7245-Fall2023/.venv/lib/python3.10/site-packages (from great_expectations[s3]) (2.4.0)\n",
      "Requirement already satisfied: pyparsing>=2.4 in /home/anku/sandbox/DAMG7245-Fall2023/.venv/lib/python3.10/site-packages (from great_expectations[s3]) (3.1.1)\n",
      "Requirement already satisfied: python-dateutil>=2.8.1 in /home/anku/sandbox/DAMG7245-Fall2023/.venv/lib/python3.10/site-packages (from great_expectations[s3]) (2.8.2)\n",
      "Requirement already satisfied: pytz>=2021.3 in /home/anku/sandbox/DAMG7245-Fall2023/.venv/lib/python3.10/site-packages (from great_expectations[s3]) (2023.3.post1)\n",
      "Requirement already satisfied: requests>=2.20 in /home/anku/sandbox/DAMG7245-Fall2023/.venv/lib/python3.10/site-packages (from great_expectations[s3]) (2.31.0)\n",
      "Requirement already satisfied: ruamel.yaml<0.17.18,>=0.16 in /home/anku/sandbox/DAMG7245-Fall2023/.venv/lib/python3.10/site-packages (from great_expectations[s3]) (0.17.17)\n",
      "Requirement already satisfied: scipy>=1.6.0 in /home/anku/sandbox/DAMG7245-Fall2023/.venv/lib/python3.10/site-packages (from great_expectations[s3]) (1.11.2)\n",
      "Requirement already satisfied: tqdm>=4.59.0 in /home/anku/sandbox/DAMG7245-Fall2023/.venv/lib/python3.10/site-packages (from great_expectations[s3]) (4.66.1)\n",
      "Requirement already satisfied: typing-extensions>=3.10.0.0 in /home/anku/sandbox/DAMG7245-Fall2023/.venv/lib/python3.10/site-packages (from great_expectations[s3]) (4.8.0)\n",
      "Requirement already satisfied: tzlocal>=1.2 in /home/anku/sandbox/DAMG7245-Fall2023/.venv/lib/python3.10/site-packages (from great_expectations[s3]) (5.0.1)\n",
      "Requirement already satisfied: urllib3>=1.26 in /home/anku/sandbox/DAMG7245-Fall2023/.venv/lib/python3.10/site-packages (from great_expectations[s3]) (2.0.5)\n",
      "Requirement already satisfied: numpy>=1.22.4 in /home/anku/sandbox/DAMG7245-Fall2023/.venv/lib/python3.10/site-packages (from great_expectations[s3]) (1.26.0)\n",
      "Requirement already satisfied: pandas>=1.3.0 in /home/anku/sandbox/DAMG7245-Fall2023/.venv/lib/python3.10/site-packages (from great_expectations[s3]) (2.1.1)\n",
      "Collecting boto3>=1.17.106 (from great_expectations[s3])\n",
      "  Obtaining dependency information for boto3>=1.17.106 from https://files.pythonhosted.org/packages/fe/15/fa88dc3bf239fe047fcd9f7c1c38b655f533d453d4d6c3f72ab5b145d44d/boto3-1.28.53-py3-none-any.whl.metadata\n",
      "  Using cached boto3-1.28.53-py3-none-any.whl.metadata (6.7 kB)\n",
      "Requirement already satisfied: entrypoints in /home/anku/sandbox/DAMG7245-Fall2023/.venv/lib/python3.10/site-packages (from altair<5.0.0,>=4.2.1->great_expectations[s3]) (0.4)\n",
      "Requirement already satisfied: toolz in /home/anku/sandbox/DAMG7245-Fall2023/.venv/lib/python3.10/site-packages (from altair<5.0.0,>=4.2.1->great_expectations[s3]) (0.12.0)\n",
      "Collecting botocore<1.32.0,>=1.31.53 (from boto3>=1.17.106->great_expectations[s3])\n",
      "  Obtaining dependency information for botocore<1.32.0,>=1.31.53 from https://files.pythonhosted.org/packages/21/fd/d8591332f5a6b3a94a55dc88a8374518ef7caa24302562558e4eac07ec2e/botocore-1.31.53-py3-none-any.whl.metadata\n",
      "  Using cached botocore-1.31.53-py3-none-any.whl.metadata (6.0 kB)\n",
      "Collecting jmespath<2.0.0,>=0.7.1 (from boto3>=1.17.106->great_expectations[s3])\n",
      "  Using cached jmespath-1.0.1-py3-none-any.whl (20 kB)\n",
      "Collecting s3transfer<0.7.0,>=0.6.0 (from boto3>=1.17.106->great_expectations[s3])\n",
      "  Obtaining dependency information for s3transfer<0.7.0,>=0.6.0 from https://files.pythonhosted.org/packages/d9/17/a3b666f5ef9543cfd3c661d39d1e193abb9649d0cfbbfee3cf3b51d5af02/s3transfer-0.6.2-py3-none-any.whl.metadata\n",
      "  Using cached s3transfer-0.6.2-py3-none-any.whl.metadata (1.8 kB)\n",
      "Requirement already satisfied: cffi>=1.12 in /home/anku/sandbox/DAMG7245-Fall2023/.venv/lib/python3.10/site-packages (from cryptography>=3.2->great_expectations[s3]) (1.15.1)\n",
      "Requirement already satisfied: backcall in /home/anku/sandbox/DAMG7245-Fall2023/.venv/lib/python3.10/site-packages (from Ipython>=7.16.3->great_expectations[s3]) (0.2.0)\n",
      "Requirement already satisfied: decorator in /home/anku/sandbox/DAMG7245-Fall2023/.venv/lib/python3.10/site-packages (from Ipython>=7.16.3->great_expectations[s3]) (5.1.1)\n",
      "Requirement already satisfied: jedi>=0.16 in /home/anku/sandbox/DAMG7245-Fall2023/.venv/lib/python3.10/site-packages (from Ipython>=7.16.3->great_expectations[s3]) (0.19.0)\n",
      "Requirement already satisfied: matplotlib-inline in /home/anku/sandbox/DAMG7245-Fall2023/.venv/lib/python3.10/site-packages (from Ipython>=7.16.3->great_expectations[s3]) (0.1.6)\n",
      "Requirement already satisfied: pickleshare in /home/anku/sandbox/DAMG7245-Fall2023/.venv/lib/python3.10/site-packages (from Ipython>=7.16.3->great_expectations[s3]) (0.7.5)\n",
      "Requirement already satisfied: prompt-toolkit!=3.0.37,<3.1.0,>=3.0.30 in /home/anku/sandbox/DAMG7245-Fall2023/.venv/lib/python3.10/site-packages (from Ipython>=7.16.3->great_expectations[s3]) (3.0.39)\n",
      "Requirement already satisfied: pygments>=2.4.0 in /home/anku/sandbox/DAMG7245-Fall2023/.venv/lib/python3.10/site-packages (from Ipython>=7.16.3->great_expectations[s3]) (2.16.1)\n",
      "Requirement already satisfied: stack-data in /home/anku/sandbox/DAMG7245-Fall2023/.venv/lib/python3.10/site-packages (from Ipython>=7.16.3->great_expectations[s3]) (0.6.2)\n",
      "Requirement already satisfied: traitlets>=5 in /home/anku/sandbox/DAMG7245-Fall2023/.venv/lib/python3.10/site-packages (from Ipython>=7.16.3->great_expectations[s3]) (5.10.0)\n",
      "Requirement already satisfied: exceptiongroup in /home/anku/sandbox/DAMG7245-Fall2023/.venv/lib/python3.10/site-packages (from Ipython>=7.16.3->great_expectations[s3]) (1.1.3)\n",
      "Requirement already satisfied: pexpect>4.3 in /home/anku/sandbox/DAMG7245-Fall2023/.venv/lib/python3.10/site-packages (from Ipython>=7.16.3->great_expectations[s3]) (4.8.0)\n",
      "Requirement already satisfied: comm>=0.1.3 in /home/anku/sandbox/DAMG7245-Fall2023/.venv/lib/python3.10/site-packages (from ipywidgets>=7.5.1->great_expectations[s3]) (0.1.4)\n",
      "Requirement already satisfied: widgetsnbextension~=4.0.9 in /home/anku/sandbox/DAMG7245-Fall2023/.venv/lib/python3.10/site-packages (from ipywidgets>=7.5.1->great_expectations[s3]) (4.0.9)\n",
      "Requirement already satisfied: jupyterlab-widgets~=3.0.9 in /home/anku/sandbox/DAMG7245-Fall2023/.venv/lib/python3.10/site-packages (from ipywidgets>=7.5.1->great_expectations[s3]) (3.0.9)\n",
      "Requirement already satisfied: MarkupSafe>=2.0 in /home/anku/sandbox/DAMG7245-Fall2023/.venv/lib/python3.10/site-packages (from jinja2>=2.10->great_expectations[s3]) (2.1.3)\n",
      "Requirement already satisfied: jsonpointer>=1.9 in /home/anku/sandbox/DAMG7245-Fall2023/.venv/lib/python3.10/site-packages (from jsonpatch>=1.22->great_expectations[s3]) (2.4)\n",
      "Requirement already satisfied: attrs>=22.2.0 in /home/anku/sandbox/DAMG7245-Fall2023/.venv/lib/python3.10/site-packages (from jsonschema>=2.5.1->great_expectations[s3]) (23.1.0)\n",
      "Requirement already satisfied: jsonschema-specifications>=2023.03.6 in /home/anku/sandbox/DAMG7245-Fall2023/.venv/lib/python3.10/site-packages (from jsonschema>=2.5.1->great_expectations[s3]) (2023.7.1)\n",
      "Requirement already satisfied: referencing>=0.28.4 in /home/anku/sandbox/DAMG7245-Fall2023/.venv/lib/python3.10/site-packages (from jsonschema>=2.5.1->great_expectations[s3]) (0.30.2)\n",
      "Requirement already satisfied: rpds-py>=0.7.1 in /home/anku/sandbox/DAMG7245-Fall2023/.venv/lib/python3.10/site-packages (from jsonschema>=2.5.1->great_expectations[s3]) (0.10.3)\n",
      "Requirement already satisfied: fastjsonschema in /home/anku/sandbox/DAMG7245-Fall2023/.venv/lib/python3.10/site-packages (from nbformat>=5.0->great_expectations[s3]) (2.18.0)\n",
      "Requirement already satisfied: jupyter-core in /home/anku/sandbox/DAMG7245-Fall2023/.venv/lib/python3.10/site-packages (from nbformat>=5.0->great_expectations[s3]) (5.3.1)\n",
      "Requirement already satisfied: jupyter-server<3,>=2.4.0 in /home/anku/sandbox/DAMG7245-Fall2023/.venv/lib/python3.10/site-packages (from notebook>=6.4.10->great_expectations[s3]) (2.7.3)\n",
      "Requirement already satisfied: jupyterlab-server<3,>=2.22.1 in /home/anku/sandbox/DAMG7245-Fall2023/.venv/lib/python3.10/site-packages (from notebook>=6.4.10->great_expectations[s3]) (2.25.0)\n",
      "Requirement already satisfied: jupyterlab<5,>=4.0.2 in /home/anku/sandbox/DAMG7245-Fall2023/.venv/lib/python3.10/site-packages (from notebook>=6.4.10->great_expectations[s3]) (4.0.6)\n",
      "Requirement already satisfied: notebook-shim<0.3,>=0.2 in /home/anku/sandbox/DAMG7245-Fall2023/.venv/lib/python3.10/site-packages (from notebook>=6.4.10->great_expectations[s3]) (0.2.3)\n",
      "Requirement already satisfied: tornado>=6.2.0 in /home/anku/sandbox/DAMG7245-Fall2023/.venv/lib/python3.10/site-packages (from notebook>=6.4.10->great_expectations[s3]) (6.3.3)\n",
      "Requirement already satisfied: tzdata>=2022.1 in /home/anku/sandbox/DAMG7245-Fall2023/.venv/lib/python3.10/site-packages (from pandas>=1.3.0->great_expectations[s3]) (2023.3)\n",
      "Requirement already satisfied: annotated-types>=0.4.0 in /home/anku/sandbox/DAMG7245-Fall2023/.venv/lib/python3.10/site-packages (from pydantic>=1.9.2->great_expectations[s3]) (0.5.0)\n",
      "Requirement already satisfied: pydantic-core==2.10.0 in /home/anku/sandbox/DAMG7245-Fall2023/.venv/lib/python3.10/site-packages (from pydantic>=1.9.2->great_expectations[s3]) (2.10.0)\n",
      "Requirement already satisfied: six>=1.5 in /home/anku/sandbox/DAMG7245-Fall2023/.venv/lib/python3.10/site-packages (from python-dateutil>=2.8.1->great_expectations[s3]) (1.16.0)\n",
      "Requirement already satisfied: charset-normalizer<4,>=2 in /home/anku/sandbox/DAMG7245-Fall2023/.venv/lib/python3.10/site-packages (from requests>=2.20->great_expectations[s3]) (3.2.0)\n",
      "Requirement already satisfied: idna<4,>=2.5 in /home/anku/sandbox/DAMG7245-Fall2023/.venv/lib/python3.10/site-packages (from requests>=2.20->great_expectations[s3]) (3.4)\n",
      "Requirement already satisfied: certifi>=2017.4.17 in /home/anku/sandbox/DAMG7245-Fall2023/.venv/lib/python3.10/site-packages (from requests>=2.20->great_expectations[s3]) (2023.7.22)\n",
      "Collecting urllib3>=1.26 (from great_expectations[s3])\n",
      "  Obtaining dependency information for urllib3>=1.26 from https://files.pythonhosted.org/packages/c5/05/c214b32d21c0b465506f95c4f28ccbcba15022e000b043b72b3df7728471/urllib3-1.26.16-py2.py3-none-any.whl.metadata\n",
      "  Using cached urllib3-1.26.16-py2.py3-none-any.whl.metadata (48 kB)\n",
      "Requirement already satisfied: pycparser in /home/anku/sandbox/DAMG7245-Fall2023/.venv/lib/python3.10/site-packages (from cffi>=1.12->cryptography>=3.2->great_expectations[s3]) (2.21)\n",
      "Requirement already satisfied: parso<0.9.0,>=0.8.3 in /home/anku/sandbox/DAMG7245-Fall2023/.venv/lib/python3.10/site-packages (from jedi>=0.16->Ipython>=7.16.3->great_expectations[s3]) (0.8.3)\n",
      "Requirement already satisfied: anyio>=3.1.0 in /home/anku/sandbox/DAMG7245-Fall2023/.venv/lib/python3.10/site-packages (from jupyter-server<3,>=2.4.0->notebook>=6.4.10->great_expectations[s3]) (4.0.0)\n",
      "Requirement already satisfied: argon2-cffi in /home/anku/sandbox/DAMG7245-Fall2023/.venv/lib/python3.10/site-packages (from jupyter-server<3,>=2.4.0->notebook>=6.4.10->great_expectations[s3]) (23.1.0)\n",
      "Requirement already satisfied: jupyter-client>=7.4.4 in /home/anku/sandbox/DAMG7245-Fall2023/.venv/lib/python3.10/site-packages (from jupyter-server<3,>=2.4.0->notebook>=6.4.10->great_expectations[s3]) (8.3.1)\n",
      "Requirement already satisfied: jupyter-events>=0.6.0 in /home/anku/sandbox/DAMG7245-Fall2023/.venv/lib/python3.10/site-packages (from jupyter-server<3,>=2.4.0->notebook>=6.4.10->great_expectations[s3]) (0.7.0)\n",
      "Requirement already satisfied: jupyter-server-terminals in /home/anku/sandbox/DAMG7245-Fall2023/.venv/lib/python3.10/site-packages (from jupyter-server<3,>=2.4.0->notebook>=6.4.10->great_expectations[s3]) (0.4.4)\n",
      "Requirement already satisfied: nbconvert>=6.4.4 in /home/anku/sandbox/DAMG7245-Fall2023/.venv/lib/python3.10/site-packages (from jupyter-server<3,>=2.4.0->notebook>=6.4.10->great_expectations[s3]) (7.8.0)\n",
      "Requirement already satisfied: overrides in /home/anku/sandbox/DAMG7245-Fall2023/.venv/lib/python3.10/site-packages (from jupyter-server<3,>=2.4.0->notebook>=6.4.10->great_expectations[s3]) (7.4.0)\n",
      "Requirement already satisfied: prometheus-client in /home/anku/sandbox/DAMG7245-Fall2023/.venv/lib/python3.10/site-packages (from jupyter-server<3,>=2.4.0->notebook>=6.4.10->great_expectations[s3]) (0.17.1)\n",
      "Requirement already satisfied: pyzmq>=24 in /home/anku/sandbox/DAMG7245-Fall2023/.venv/lib/python3.10/site-packages (from jupyter-server<3,>=2.4.0->notebook>=6.4.10->great_expectations[s3]) (25.1.1)\n",
      "Requirement already satisfied: send2trash>=1.8.2 in /home/anku/sandbox/DAMG7245-Fall2023/.venv/lib/python3.10/site-packages (from jupyter-server<3,>=2.4.0->notebook>=6.4.10->great_expectations[s3]) (1.8.2)\n",
      "Requirement already satisfied: terminado>=0.8.3 in /home/anku/sandbox/DAMG7245-Fall2023/.venv/lib/python3.10/site-packages (from jupyter-server<3,>=2.4.0->notebook>=6.4.10->great_expectations[s3]) (0.17.1)\n",
      "Requirement already satisfied: websocket-client in /home/anku/sandbox/DAMG7245-Fall2023/.venv/lib/python3.10/site-packages (from jupyter-server<3,>=2.4.0->notebook>=6.4.10->great_expectations[s3]) (1.6.3)\n",
      "Requirement already satisfied: platformdirs>=2.5 in /home/anku/sandbox/DAMG7245-Fall2023/.venv/lib/python3.10/site-packages (from jupyter-core->nbformat>=5.0->great_expectations[s3]) (3.10.0)\n",
      "Requirement already satisfied: async-lru>=1.0.0 in /home/anku/sandbox/DAMG7245-Fall2023/.venv/lib/python3.10/site-packages (from jupyterlab<5,>=4.0.2->notebook>=6.4.10->great_expectations[s3]) (2.0.4)\n",
      "Requirement already satisfied: ipykernel in /home/anku/sandbox/DAMG7245-Fall2023/.venv/lib/python3.10/site-packages (from jupyterlab<5,>=4.0.2->notebook>=6.4.10->great_expectations[s3]) (6.25.2)\n",
      "Requirement already satisfied: jupyter-lsp>=2.0.0 in /home/anku/sandbox/DAMG7245-Fall2023/.venv/lib/python3.10/site-packages (from jupyterlab<5,>=4.0.2->notebook>=6.4.10->great_expectations[s3]) (2.2.0)\n",
      "Requirement already satisfied: tomli in /home/anku/sandbox/DAMG7245-Fall2023/.venv/lib/python3.10/site-packages (from jupyterlab<5,>=4.0.2->notebook>=6.4.10->great_expectations[s3]) (2.0.1)\n",
      "Requirement already satisfied: babel>=2.10 in /home/anku/sandbox/DAMG7245-Fall2023/.venv/lib/python3.10/site-packages (from jupyterlab-server<3,>=2.22.1->notebook>=6.4.10->great_expectations[s3]) (2.12.1)\n",
      "Requirement already satisfied: json5>=0.9.0 in /home/anku/sandbox/DAMG7245-Fall2023/.venv/lib/python3.10/site-packages (from jupyterlab-server<3,>=2.22.1->notebook>=6.4.10->great_expectations[s3]) (0.9.14)\n",
      "Requirement already satisfied: ptyprocess>=0.5 in /home/anku/sandbox/DAMG7245-Fall2023/.venv/lib/python3.10/site-packages (from pexpect>4.3->Ipython>=7.16.3->great_expectations[s3]) (0.7.0)\n",
      "Requirement already satisfied: wcwidth in /home/anku/sandbox/DAMG7245-Fall2023/.venv/lib/python3.10/site-packages (from prompt-toolkit!=3.0.37,<3.1.0,>=3.0.30->Ipython>=7.16.3->great_expectations[s3]) (0.2.6)\n",
      "Requirement already satisfied: executing>=1.2.0 in /home/anku/sandbox/DAMG7245-Fall2023/.venv/lib/python3.10/site-packages (from stack-data->Ipython>=7.16.3->great_expectations[s3]) (1.2.0)\n",
      "Requirement already satisfied: asttokens>=2.1.0 in /home/anku/sandbox/DAMG7245-Fall2023/.venv/lib/python3.10/site-packages (from stack-data->Ipython>=7.16.3->great_expectations[s3]) (2.4.0)\n",
      "Requirement already satisfied: pure-eval in /home/anku/sandbox/DAMG7245-Fall2023/.venv/lib/python3.10/site-packages (from stack-data->Ipython>=7.16.3->great_expectations[s3]) (0.2.2)\n",
      "Requirement already satisfied: sniffio>=1.1 in /home/anku/sandbox/DAMG7245-Fall2023/.venv/lib/python3.10/site-packages (from anyio>=3.1.0->jupyter-server<3,>=2.4.0->notebook>=6.4.10->great_expectations[s3]) (1.3.0)\n",
      "Requirement already satisfied: python-json-logger>=2.0.4 in /home/anku/sandbox/DAMG7245-Fall2023/.venv/lib/python3.10/site-packages (from jupyter-events>=0.6.0->jupyter-server<3,>=2.4.0->notebook>=6.4.10->great_expectations[s3]) (2.0.7)\n",
      "Requirement already satisfied: pyyaml>=5.3 in /home/anku/sandbox/DAMG7245-Fall2023/.venv/lib/python3.10/site-packages (from jupyter-events>=0.6.0->jupyter-server<3,>=2.4.0->notebook>=6.4.10->great_expectations[s3]) (6.0.1)\n",
      "Requirement already satisfied: rfc3339-validator in /home/anku/sandbox/DAMG7245-Fall2023/.venv/lib/python3.10/site-packages (from jupyter-events>=0.6.0->jupyter-server<3,>=2.4.0->notebook>=6.4.10->great_expectations[s3]) (0.1.4)\n",
      "Requirement already satisfied: rfc3986-validator>=0.1.1 in /home/anku/sandbox/DAMG7245-Fall2023/.venv/lib/python3.10/site-packages (from jupyter-events>=0.6.0->jupyter-server<3,>=2.4.0->notebook>=6.4.10->great_expectations[s3]) (0.1.1)\n",
      "Requirement already satisfied: beautifulsoup4 in /home/anku/sandbox/DAMG7245-Fall2023/.venv/lib/python3.10/site-packages (from nbconvert>=6.4.4->jupyter-server<3,>=2.4.0->notebook>=6.4.10->great_expectations[s3]) (4.12.2)\n",
      "Requirement already satisfied: bleach!=5.0.0 in /home/anku/sandbox/DAMG7245-Fall2023/.venv/lib/python3.10/site-packages (from nbconvert>=6.4.4->jupyter-server<3,>=2.4.0->notebook>=6.4.10->great_expectations[s3]) (6.0.0)\n",
      "Requirement already satisfied: defusedxml in /home/anku/sandbox/DAMG7245-Fall2023/.venv/lib/python3.10/site-packages (from nbconvert>=6.4.4->jupyter-server<3,>=2.4.0->notebook>=6.4.10->great_expectations[s3]) (0.7.1)\n",
      "Requirement already satisfied: jupyterlab-pygments in /home/anku/sandbox/DAMG7245-Fall2023/.venv/lib/python3.10/site-packages (from nbconvert>=6.4.4->jupyter-server<3,>=2.4.0->notebook>=6.4.10->great_expectations[s3]) (0.2.2)\n",
      "Requirement already satisfied: nbclient>=0.5.0 in /home/anku/sandbox/DAMG7245-Fall2023/.venv/lib/python3.10/site-packages (from nbconvert>=6.4.4->jupyter-server<3,>=2.4.0->notebook>=6.4.10->great_expectations[s3]) (0.8.0)\n",
      "Requirement already satisfied: pandocfilters>=1.4.1 in /home/anku/sandbox/DAMG7245-Fall2023/.venv/lib/python3.10/site-packages (from nbconvert>=6.4.4->jupyter-server<3,>=2.4.0->notebook>=6.4.10->great_expectations[s3]) (1.5.0)\n",
      "Requirement already satisfied: tinycss2 in /home/anku/sandbox/DAMG7245-Fall2023/.venv/lib/python3.10/site-packages (from nbconvert>=6.4.4->jupyter-server<3,>=2.4.0->notebook>=6.4.10->great_expectations[s3]) (1.2.1)\n",
      "Requirement already satisfied: argon2-cffi-bindings in /home/anku/sandbox/DAMG7245-Fall2023/.venv/lib/python3.10/site-packages (from argon2-cffi->jupyter-server<3,>=2.4.0->notebook>=6.4.10->great_expectations[s3]) (21.2.0)\n",
      "Requirement already satisfied: debugpy>=1.6.5 in /home/anku/sandbox/DAMG7245-Fall2023/.venv/lib/python3.10/site-packages (from ipykernel->jupyterlab<5,>=4.0.2->notebook>=6.4.10->great_expectations[s3]) (1.8.0)\n",
      "Requirement already satisfied: nest-asyncio in /home/anku/sandbox/DAMG7245-Fall2023/.venv/lib/python3.10/site-packages (from ipykernel->jupyterlab<5,>=4.0.2->notebook>=6.4.10->great_expectations[s3]) (1.5.8)\n",
      "Requirement already satisfied: psutil in /home/anku/sandbox/DAMG7245-Fall2023/.venv/lib/python3.10/site-packages (from ipykernel->jupyterlab<5,>=4.0.2->notebook>=6.4.10->great_expectations[s3]) (5.9.5)\n",
      "Requirement already satisfied: webencodings in /home/anku/sandbox/DAMG7245-Fall2023/.venv/lib/python3.10/site-packages (from bleach!=5.0.0->nbconvert>=6.4.4->jupyter-server<3,>=2.4.0->notebook>=6.4.10->great_expectations[s3]) (0.5.1)\n",
      "Requirement already satisfied: fqdn in /home/anku/sandbox/DAMG7245-Fall2023/.venv/lib/python3.10/site-packages (from jsonschema>=2.5.1->great_expectations[s3]) (1.5.1)\n",
      "Requirement already satisfied: isoduration in /home/anku/sandbox/DAMG7245-Fall2023/.venv/lib/python3.10/site-packages (from jsonschema>=2.5.1->great_expectations[s3]) (20.11.0)\n",
      "Requirement already satisfied: uri-template in /home/anku/sandbox/DAMG7245-Fall2023/.venv/lib/python3.10/site-packages (from jsonschema>=2.5.1->great_expectations[s3]) (1.3.0)\n",
      "Requirement already satisfied: webcolors>=1.11 in /home/anku/sandbox/DAMG7245-Fall2023/.venv/lib/python3.10/site-packages (from jsonschema>=2.5.1->great_expectations[s3]) (1.13)\n",
      "Requirement already satisfied: soupsieve>1.2 in /home/anku/sandbox/DAMG7245-Fall2023/.venv/lib/python3.10/site-packages (from beautifulsoup4->nbconvert>=6.4.4->jupyter-server<3,>=2.4.0->notebook>=6.4.10->great_expectations[s3]) (2.5)\n",
      "Requirement already satisfied: arrow>=0.15.0 in /home/anku/sandbox/DAMG7245-Fall2023/.venv/lib/python3.10/site-packages (from isoduration->jsonschema>=2.5.1->great_expectations[s3]) (1.2.3)\n",
      "Using cached boto3-1.28.53-py3-none-any.whl (135 kB)\n",
      "Using cached botocore-1.31.53-py3-none-any.whl (11.2 MB)\n",
      "Using cached urllib3-1.26.16-py2.py3-none-any.whl (143 kB)\n",
      "Using cached s3transfer-0.6.2-py3-none-any.whl (79 kB)\n",
      "Installing collected packages: urllib3, jmespath, botocore, s3transfer, boto3\n",
      "  Attempting uninstall: urllib3\n",
      "    Found existing installation: urllib3 2.0.5\n",
      "    Uninstalling urllib3-2.0.5:\n",
      "      Successfully uninstalled urllib3-2.0.5\n",
      "Successfully installed boto3-1.28.53 botocore-1.31.53 jmespath-1.0.1 s3transfer-0.6.2 urllib3-1.26.16\n"
     ]
    }
   ],
   "source": [
    "%%bash\n",
    "\n",
    "pip install 'great_expectations[s3]'"
   ]
  },
  {
   "cell_type": "code",
   "execution_count": null,
   "metadata": {},
   "outputs": [],
   "source": [
    "%%bash\n",
    "\n",
    "echo -e \"Verify your installed version `great_expectations --version | grep -oP 'version \\K[^ ]+'` is higher than 0.17.19\""
   ]
  },
  {
   "cell_type": "code",
   "execution_count": 2,
   "metadata": {},
   "outputs": [],
   "source": [
    "import os\n",
    "import pandas as pd\n",
    "import great_expectations as gx\n",
    "from great_expectations.data_context import FileDataContext"
   ]
  },
  {
   "cell_type": "markdown",
   "metadata": {},
   "source": [
    "## Initialize local variables"
   ]
  },
  {
   "cell_type": "code",
   "execution_count": 3,
   "metadata": {},
   "outputs": [],
   "source": [
    "# variables\n",
    "path_to_repo_dir = \"/home/anku/sandbox/DAMG7245-Fall2023\" # TODO: change this to your local path"
   ]
  },
  {
   "cell_type": "markdown",
   "metadata": {},
   "source": [
    "## Initialize GX dir"
   ]
  },
  {
   "cell_type": "code",
   "execution_count": 4,
   "metadata": {},
   "outputs": [],
   "source": [
    "context = FileDataContext.create(project_root_dir=path_to_repo_dir)"
   ]
  },
  {
   "cell_type": "markdown",
   "metadata": {},
   "source": [
    "## GX : Create Data Source\n",
    "\n",
    "Here the source of data is csv files uploaded to S3, the files pattern is `yellow_tripdata_YYYY-MM.csv`"
   ]
  },
  {
   "cell_type": "code",
   "execution_count": 5,
   "metadata": {},
   "outputs": [],
   "source": [
    "datasource_name = \"S3_NYC_Yellow_Taxi2\"\n",
    "bucket_name = \"gx-nyc-trip-lab-demo\"\n",
    "boto3_options = {}"
   ]
  },
  {
   "cell_type": "code",
   "execution_count": 6,
   "metadata": {},
   "outputs": [],
   "source": [
    "datasource = context.sources.add_pandas_s3(name=datasource_name, bucket=bucket_name, boto3_options=boto3_options)"
   ]
  },
  {
   "cell_type": "code",
   "execution_count": 7,
   "metadata": {},
   "outputs": [],
   "source": [
    "asset_name = \"S3_NYC_Yellow_Taxi_Data_Asset2\"\n",
    "s3_prefix = \"\"\n",
    "batching_regex = r\"yellow_tripdata_(?P<year>\\d{4})-(?P<month>\\d{2})\\.csv\"\n",
    "data_asset = datasource.add_csv_asset(name=asset_name, batching_regex=batching_regex, s3_prefix=s3_prefix)"
   ]
  },
  {
   "cell_type": "code",
   "execution_count": null,
   "metadata": {},
   "outputs": [],
   "source": [
    "batch_request = data_asset.build_batch_request()"
   ]
  },
  {
   "cell_type": "markdown",
   "metadata": {},
   "source": [
    "## GX : Create Expectations Suite\n",
    "\n",
    "Expectations suite has the validation / checks to be done on data."
   ]
  },
  {
   "cell_type": "code",
   "execution_count": 8,
   "metadata": {},
   "outputs": [],
   "source": [
    "expectation_suite_name=\"S3_NYC_Yellow_Taxi_Data_Asset_Expectation_Suite\""
   ]
  },
  {
   "cell_type": "code",
   "execution_count": 9,
   "metadata": {},
   "outputs": [],
   "source": [
    "data_asset = context.get_datasource(datasource_name).get_asset(asset_name)\n",
    "batch_request = data_asset.build_batch_request()"
   ]
  },
  {
   "cell_type": "code",
   "execution_count": 10,
   "metadata": {},
   "outputs": [
    {
     "data": {
      "text/plain": [
       "['NOAA_Station_Data_Expectation_Suite', 'NYC_Yellow_Taxi_Expecation_Suite']"
      ]
     },
     "execution_count": 10,
     "metadata": {},
     "output_type": "execute_result"
    }
   ],
   "source": [
    "context.list_expectation_suite_names()"
   ]
  },
  {
   "cell_type": "code",
   "execution_count": 11,
   "metadata": {},
   "outputs": [
    {
     "data": {
      "text/plain": [
       "{\n",
       "  \"expectation_suite_name\": \"S3_NYC_Yellow_Taxi_Data_Asset_Expectation_Suite\",\n",
       "  \"ge_cloud_id\": null,\n",
       "  \"expectations\": [],\n",
       "  \"data_asset_type\": null,\n",
       "  \"meta\": {\n",
       "    \"great_expectations_version\": \"0.17.19\"\n",
       "  }\n",
       "}"
      ]
     },
     "execution_count": 11,
     "metadata": {},
     "output_type": "execute_result"
    }
   ],
   "source": [
    "context.add_or_update_expectation_suite(expectation_suite_name)"
   ]
  },
  {
   "cell_type": "code",
   "execution_count": 12,
   "metadata": {},
   "outputs": [
    {
     "data": {
      "application/vnd.jupyter.widget-view+json": {
       "model_id": "30333d39967e4752b8543259edbf2c8b",
       "version_major": 2,
       "version_minor": 0
      },
      "text/plain": [
       "Calculating Metrics:   0%|          | 0/1 [00:00<?, ?it/s]"
      ]
     },
     "metadata": {},
     "output_type": "display_data"
    },
    {
     "data": {
      "text/html": [
       "<div>\n",
       "<style scoped>\n",
       "    .dataframe tbody tr th:only-of-type {\n",
       "        vertical-align: middle;\n",
       "    }\n",
       "\n",
       "    .dataframe tbody tr th {\n",
       "        vertical-align: top;\n",
       "    }\n",
       "\n",
       "    .dataframe thead th {\n",
       "        text-align: right;\n",
       "    }\n",
       "</style>\n",
       "<table border=\"1\" class=\"dataframe\">\n",
       "  <thead>\n",
       "    <tr style=\"text-align: right;\">\n",
       "      <th></th>\n",
       "      <th>VendorID</th>\n",
       "      <th>tpep_pickup_datetime</th>\n",
       "      <th>tpep_dropoff_datetime</th>\n",
       "      <th>passenger_count</th>\n",
       "      <th>trip_distance</th>\n",
       "      <th>RatecodeID</th>\n",
       "      <th>store_and_fwd_flag</th>\n",
       "      <th>PULocationID</th>\n",
       "      <th>DOLocationID</th>\n",
       "      <th>payment_type</th>\n",
       "      <th>fare_amount</th>\n",
       "      <th>extra</th>\n",
       "      <th>mta_tax</th>\n",
       "      <th>tip_amount</th>\n",
       "      <th>tolls_amount</th>\n",
       "      <th>improvement_surcharge</th>\n",
       "      <th>total_amount</th>\n",
       "      <th>congestion_surcharge</th>\n",
       "      <th>airport_fee</th>\n",
       "    </tr>\n",
       "  </thead>\n",
       "  <tbody>\n",
       "    <tr>\n",
       "      <th>0</th>\n",
       "      <td>2</td>\n",
       "      <td>01-01-2023 00:32</td>\n",
       "      <td>01-01-2023 00:40</td>\n",
       "      <td>1</td>\n",
       "      <td>0.97</td>\n",
       "      <td>1</td>\n",
       "      <td>N</td>\n",
       "      <td>161</td>\n",
       "      <td>141</td>\n",
       "      <td>2</td>\n",
       "      <td>9.3</td>\n",
       "      <td>1.00</td>\n",
       "      <td>0.5</td>\n",
       "      <td>0.00</td>\n",
       "      <td>0.0</td>\n",
       "      <td>1.0</td>\n",
       "      <td>14.30</td>\n",
       "      <td>2.5</td>\n",
       "      <td>0.00</td>\n",
       "    </tr>\n",
       "    <tr>\n",
       "      <th>1</th>\n",
       "      <td>2</td>\n",
       "      <td>01-01-2023 00:55</td>\n",
       "      <td>01-01-2023 01:01</td>\n",
       "      <td>1</td>\n",
       "      <td>1.10</td>\n",
       "      <td>1</td>\n",
       "      <td>N</td>\n",
       "      <td>43</td>\n",
       "      <td>237</td>\n",
       "      <td>1</td>\n",
       "      <td>7.9</td>\n",
       "      <td>1.00</td>\n",
       "      <td>0.5</td>\n",
       "      <td>4.00</td>\n",
       "      <td>0.0</td>\n",
       "      <td>1.0</td>\n",
       "      <td>16.90</td>\n",
       "      <td>2.5</td>\n",
       "      <td>0.00</td>\n",
       "    </tr>\n",
       "    <tr>\n",
       "      <th>2</th>\n",
       "      <td>2</td>\n",
       "      <td>01-01-2023 00:25</td>\n",
       "      <td>01-01-2023 00:37</td>\n",
       "      <td>1</td>\n",
       "      <td>2.51</td>\n",
       "      <td>1</td>\n",
       "      <td>N</td>\n",
       "      <td>48</td>\n",
       "      <td>238</td>\n",
       "      <td>1</td>\n",
       "      <td>14.9</td>\n",
       "      <td>1.00</td>\n",
       "      <td>0.5</td>\n",
       "      <td>15.00</td>\n",
       "      <td>0.0</td>\n",
       "      <td>1.0</td>\n",
       "      <td>34.90</td>\n",
       "      <td>2.5</td>\n",
       "      <td>0.00</td>\n",
       "    </tr>\n",
       "    <tr>\n",
       "      <th>3</th>\n",
       "      <td>1</td>\n",
       "      <td>01-01-2023 00:03</td>\n",
       "      <td>01-01-2023 00:13</td>\n",
       "      <td>0</td>\n",
       "      <td>1.90</td>\n",
       "      <td>1</td>\n",
       "      <td>N</td>\n",
       "      <td>138</td>\n",
       "      <td>7</td>\n",
       "      <td>1</td>\n",
       "      <td>12.1</td>\n",
       "      <td>7.25</td>\n",
       "      <td>0.5</td>\n",
       "      <td>0.00</td>\n",
       "      <td>0.0</td>\n",
       "      <td>1.0</td>\n",
       "      <td>20.85</td>\n",
       "      <td>0.0</td>\n",
       "      <td>1.25</td>\n",
       "    </tr>\n",
       "    <tr>\n",
       "      <th>4</th>\n",
       "      <td>2</td>\n",
       "      <td>01-01-2023 00:10</td>\n",
       "      <td>01-01-2023 00:21</td>\n",
       "      <td>1</td>\n",
       "      <td>1.43</td>\n",
       "      <td>1</td>\n",
       "      <td>N</td>\n",
       "      <td>107</td>\n",
       "      <td>79</td>\n",
       "      <td>1</td>\n",
       "      <td>11.4</td>\n",
       "      <td>1.00</td>\n",
       "      <td>0.5</td>\n",
       "      <td>3.28</td>\n",
       "      <td>0.0</td>\n",
       "      <td>1.0</td>\n",
       "      <td>19.68</td>\n",
       "      <td>2.5</td>\n",
       "      <td>0.00</td>\n",
       "    </tr>\n",
       "  </tbody>\n",
       "</table>\n",
       "</div>"
      ],
      "text/plain": [
       "   VendorID tpep_pickup_datetime tpep_dropoff_datetime  passenger_count  \\\n",
       "0         2     01-01-2023 00:32      01-01-2023 00:40                1   \n",
       "1         2     01-01-2023 00:55      01-01-2023 01:01                1   \n",
       "2         2     01-01-2023 00:25      01-01-2023 00:37                1   \n",
       "3         1     01-01-2023 00:03      01-01-2023 00:13                0   \n",
       "4         2     01-01-2023 00:10      01-01-2023 00:21                1   \n",
       "\n",
       "   trip_distance  RatecodeID store_and_fwd_flag  PULocationID  DOLocationID  \\\n",
       "0           0.97           1                  N           161           141   \n",
       "1           1.10           1                  N            43           237   \n",
       "2           2.51           1                  N            48           238   \n",
       "3           1.90           1                  N           138             7   \n",
       "4           1.43           1                  N           107            79   \n",
       "\n",
       "   payment_type  fare_amount  extra  mta_tax  tip_amount  tolls_amount  \\\n",
       "0             2          9.3   1.00      0.5        0.00           0.0   \n",
       "1             1          7.9   1.00      0.5        4.00           0.0   \n",
       "2             1         14.9   1.00      0.5       15.00           0.0   \n",
       "3             1         12.1   7.25      0.5        0.00           0.0   \n",
       "4             1         11.4   1.00      0.5        3.28           0.0   \n",
       "\n",
       "   improvement_surcharge  total_amount  congestion_surcharge  airport_fee  \n",
       "0                    1.0         14.30                   2.5         0.00  \n",
       "1                    1.0         16.90                   2.5         0.00  \n",
       "2                    1.0         34.90                   2.5         0.00  \n",
       "3                    1.0         20.85                   0.0         1.25  \n",
       "4                    1.0         19.68                   2.5         0.00  "
      ]
     },
     "execution_count": 12,
     "metadata": {},
     "output_type": "execute_result"
    }
   ],
   "source": [
    "validator = context.get_validator(batch_request=batch_request, expectation_suite_name=expectation_suite_name)\n",
    "validator.head()"
   ]
  },
  {
   "cell_type": "code",
   "execution_count": 13,
   "metadata": {},
   "outputs": [
    {
     "data": {
      "application/vnd.jupyter.widget-view+json": {
       "model_id": "f9a838020e8e4f55af71dced53079054",
       "version_major": 2,
       "version_minor": 0
      },
      "text/plain": [
       "Calculating Metrics:   0%|          | 0/6 [00:00<?, ?it/s]"
      ]
     },
     "metadata": {},
     "output_type": "display_data"
    },
    {
     "data": {
      "application/vnd.jupyter.widget-view+json": {
       "model_id": "13c230f23cc347cba82fd5a6c627ef30",
       "version_major": 2,
       "version_minor": 0
      },
      "text/plain": [
       "Calculating Metrics:   0%|          | 0/8 [00:00<?, ?it/s]"
      ]
     },
     "metadata": {},
     "output_type": "display_data"
    },
    {
     "data": {
      "application/vnd.jupyter.widget-view+json": {
       "model_id": "20d15efcb73d447aa13c420cfb9bdda9",
       "version_major": 2,
       "version_minor": 0
      },
      "text/plain": [
       "Calculating Metrics:   0%|          | 0/6 [00:00<?, ?it/s]"
      ]
     },
     "metadata": {},
     "output_type": "display_data"
    },
    {
     "data": {
      "application/vnd.jupyter.widget-view+json": {
       "model_id": "967704c876e14b00be7bd538c95d78f9",
       "version_major": 2,
       "version_minor": 0
      },
      "text/plain": [
       "Calculating Metrics:   0%|          | 0/6 [00:00<?, ?it/s]"
      ]
     },
     "metadata": {},
     "output_type": "display_data"
    },
    {
     "data": {
      "application/vnd.jupyter.widget-view+json": {
       "model_id": "14795417419f4e8d91a181c22f43e80f",
       "version_major": 2,
       "version_minor": 0
      },
      "text/plain": [
       "Calculating Metrics:   0%|          | 0/8 [00:00<?, ?it/s]"
      ]
     },
     "metadata": {},
     "output_type": "display_data"
    },
    {
     "data": {
      "application/vnd.jupyter.widget-view+json": {
       "model_id": "9f6361a5826748239c3a5ed54cda5f3b",
       "version_major": 2,
       "version_minor": 0
      },
      "text/plain": [
       "Calculating Metrics:   0%|          | 0/8 [00:00<?, ?it/s]"
      ]
     },
     "metadata": {},
     "output_type": "display_data"
    },
    {
     "data": {
      "application/vnd.jupyter.widget-view+json": {
       "model_id": "5cc8a6fcb75b420f81fea384291073c0",
       "version_major": 2,
       "version_minor": 0
      },
      "text/plain": [
       "Calculating Metrics:   0%|          | 0/8 [00:00<?, ?it/s]"
      ]
     },
     "metadata": {},
     "output_type": "display_data"
    },
    {
     "name": "stdout",
     "output_type": "stream",
     "text": [
      "\n"
     ]
    },
    {
     "data": {
      "application/vnd.jupyter.widget-view+json": {
       "model_id": "7901916fc29f48b7a711adcb21ab6316",
       "version_major": 2,
       "version_minor": 0
      },
      "text/plain": [
       "Generating Expectations:   0%|          | 0/1 [00:00<?, ?it/s]"
      ]
     },
     "metadata": {},
     "output_type": "display_data"
    },
    {
     "data": {
      "application/vnd.jupyter.widget-view+json": {
       "model_id": "140a3c48e6d94ec19b9747027a17f434",
       "version_major": 2,
       "version_minor": 0
      },
      "text/plain": [
       "Calculating Metrics:   0%|          | 0/2 [00:00<?, ?it/s]"
      ]
     },
     "metadata": {},
     "output_type": "display_data"
    },
    {
     "data": {
      "application/vnd.jupyter.widget-view+json": {
       "model_id": "88b80bf603ee43f180a6e13423327c3a",
       "version_major": 2,
       "version_minor": 0
      },
      "text/plain": [
       "Calculating Metrics:   0%|          | 0/1 [00:00<?, ?it/s]"
      ]
     },
     "metadata": {},
     "output_type": "display_data"
    },
    {
     "data": {
      "application/vnd.jupyter.widget-view+json": {
       "model_id": "6dd5b1b824dc48f0a62936c6899703bf",
       "version_major": 2,
       "version_minor": 0
      },
      "text/plain": [
       "Profiling Dataset:         0%|          | 0/1 [00:00<?, ?it/s]"
      ]
     },
     "metadata": {},
     "output_type": "display_data"
    },
    {
     "data": {
      "application/vnd.jupyter.widget-view+json": {
       "model_id": "62309bdb1f9849d78bafc82f5e25b2eb",
       "version_major": 2,
       "version_minor": 0
      },
      "text/plain": [
       "Calculating Metrics:   0%|          | 0/4 [00:00<?, ?it/s]"
      ]
     },
     "metadata": {},
     "output_type": "display_data"
    },
    {
     "data": {
      "application/vnd.jupyter.widget-view+json": {
       "model_id": "6eca751123a74e6ba34e2167a3c1f47c",
       "version_major": 2,
       "version_minor": 0
      },
      "text/plain": [
       "Calculating Metrics:   0%|          | 0/4 [00:00<?, ?it/s]"
      ]
     },
     "metadata": {},
     "output_type": "display_data"
    },
    {
     "data": {
      "application/vnd.jupyter.widget-view+json": {
       "model_id": "2a1b30ea079248a1be2869d241387fb9",
       "version_major": 2,
       "version_minor": 0
      },
      "text/plain": [
       "Calculating Metrics:   0%|          | 0/8 [00:00<?, ?it/s]"
      ]
     },
     "metadata": {},
     "output_type": "display_data"
    },
    {
     "data": {
      "text/plain": [
       "{\n",
       "  \"success\": true,\n",
       "  \"expectation_config\": {\n",
       "    \"expectation_type\": \"expect_column_values_to_be_between\",\n",
       "    \"kwargs\": {\n",
       "      \"column\": \"passenger_count\",\n",
       "      \"min_value\": 0,\n",
       "      \"max_value\": 8,\n",
       "      \"mostly\": 1.0,\n",
       "      \"strict_min\": false,\n",
       "      \"strict_max\": false\n",
       "    },\n",
       "    \"meta\": {\n",
       "      \"auto_generated_at\": \"20230925T180649.561700Z\",\n",
       "      \"great_expectations_version\": \"0.17.19\"\n",
       "    }\n",
       "  },\n",
       "  \"result\": {\n",
       "    \"element_count\": 1048575,\n",
       "    \"unexpected_count\": 0,\n",
       "    \"unexpected_percent\": 0.0,\n",
       "    \"partial_unexpected_list\": [],\n",
       "    \"missing_count\": 0,\n",
       "    \"missing_percent\": 0.0,\n",
       "    \"unexpected_percent_total\": 0.0,\n",
       "    \"unexpected_percent_nonmissing\": 0.0\n",
       "  },\n",
       "  \"meta\": {},\n",
       "  \"exception_info\": {\n",
       "    \"raised_exception\": false,\n",
       "    \"exception_traceback\": null,\n",
       "    \"exception_message\": null\n",
       "  }\n",
       "}"
      ]
     },
     "execution_count": 13,
     "metadata": {},
     "output_type": "execute_result"
    }
   ],
   "source": [
    "validator.expect_column_values_to_not_be_null(\"VendorID\")\n",
    "validator.expect_column_values_to_be_in_set(\"VendorID\", [1, 2])\n",
    "validator.expect_column_values_to_not_be_null(\"tpep_pickup_datetime\")\n",
    "validator.expect_column_values_to_not_be_null(\"tpep_dropoff_datetime\")\n",
    "validator.expect_column_values_to_be_in_set(\"RatecodeID\", [1,2,3,4,5,6])\n",
    "validator.expect_column_values_to_be_in_set(\"store_and_fwd_flag\", [\"Y\", \"N\"])\n",
    "validator.expect_column_values_to_be_in_set(\"payment_type\", [1,2,3,4,5,6])\n",
    "validator.expect_column_values_to_be_between(\"passenger_count\", auto=True)"
   ]
  },
  {
   "cell_type": "markdown",
   "metadata": {},
   "source": [
    "> Explore Expectations - https://greatexpectations.io/expectations/?filterType=Backend%20support&gotoPage=1&showFilters=true&viewType=Summary"
   ]
  },
  {
   "cell_type": "code",
   "execution_count": 14,
   "metadata": {},
   "outputs": [],
   "source": [
    "validator.save_expectation_suite()"
   ]
  },
  {
   "cell_type": "markdown",
   "metadata": {},
   "source": [
    "## GX : Create Checkpoint\n",
    "\n",
    "Checkpoint to run the validations defined in the expectation against the datasource and create a report"
   ]
  },
  {
   "cell_type": "code",
   "execution_count": 15,
   "metadata": {},
   "outputs": [],
   "source": [
    "checkpoint = context.add_or_update_checkpoint(\n",
    "    name=\"S3_NYC_Yellow_Taxi_Checkpoint_v1\",\n",
    "    validator=validator\n",
    ")"
   ]
  },
  {
   "cell_type": "code",
   "execution_count": 16,
   "metadata": {},
   "outputs": [
    {
     "data": {
      "application/vnd.jupyter.widget-view+json": {
       "model_id": "83ce3eff285340878d7bc110c5ee936e",
       "version_major": 2,
       "version_minor": 0
      },
      "text/plain": [
       "Calculating Metrics:   0%|          | 0/44 [00:00<?, ?it/s]"
      ]
     },
     "metadata": {},
     "output_type": "display_data"
    }
   ],
   "source": [
    "checkpoint_result = checkpoint.run(run_name=\"Manual_run for S3 data\")"
   ]
  },
  {
   "cell_type": "code",
   "execution_count": null,
   "metadata": {},
   "outputs": [],
   "source": [
    "context.build_data_docs()"
   ]
  },
  {
   "cell_type": "markdown",
   "metadata": {},
   "source": [
    "> Install `Live Server` VSCode Extension [link](https://marketplace.visualstudio.com/items?itemName=ritwickdey.LiveServer) to view the report"
   ]
  }
 ],
 "metadata": {
  "kernelspec": {
   "display_name": ".venv",
   "language": "python",
   "name": "python3"
  },
  "language_info": {
   "codemirror_mode": {
    "name": "ipython",
    "version": 3
   },
   "file_extension": ".py",
   "mimetype": "text/x-python",
   "name": "python",
   "nbconvert_exporter": "python",
   "pygments_lexer": "ipython3",
   "version": "3.10.12"
  },
  "orig_nbformat": 4
 },
 "nbformat": 4,
 "nbformat_minor": 2
}
