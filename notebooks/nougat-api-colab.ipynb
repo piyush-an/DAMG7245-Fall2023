{
  "cells": [
    {
      "cell_type": "markdown",
      "metadata": {
        "colab_type": "text",
        "id": "view-in-github"
      },
      "source": [
        "<a href=\"https://colab.research.google.com/github/piyush-an/DAMG7245-Fall2023-Private/blob/main/nougat/nougat-api-colab.ipynb\" target=\"_parent\"><img src=\"https://colab.research.google.com/assets/colab-badge.svg\" alt=\"Open In Colab\"/></a>"
      ]
    },
    {
      "cell_type": "markdown",
      "metadata": {
        "id": "5XKE7RlEFOq5"
      },
      "source": [
        "# Guide to host Nougat API on Colab\n",
        "\n",
        "Github - https://github.com/facebookresearch/nougat"
      ]
    },
    {
      "cell_type": "markdown",
      "metadata": {
        "id": "e8z1LHBMGA2m"
      },
      "source": [
        "## Install and run Nougat API Server"
      ]
    },
    {
      "cell_type": "code",
      "execution_count": 2,
      "metadata": {
        "colab": {
          "base_uri": "https://localhost:8080/"
        },
        "id": "JIdYFSHhXAxL",
        "outputId": "2204141c-ac16-4a78-a88a-33a37791b786"
      },
      "outputs": [
        {
          "name": "stdout",
          "output_type": "stream",
          "text": [
            "Requirement already satisfied: nougat-ocr[api] in /home/anku/sandbox/DAMG7245-Fall2023-Private/.venv/lib/python3.10/site-packages (0.1.13)\n",
            "Requirement already satisfied: transformers>=4.25.1 in /home/anku/sandbox/DAMG7245-Fall2023-Private/.venv/lib/python3.10/site-packages (from nougat-ocr[api]) (4.33.3)\n",
            "Requirement already satisfied: timm==0.5.4 in /home/anku/sandbox/DAMG7245-Fall2023-Private/.venv/lib/python3.10/site-packages (from nougat-ocr[api]) (0.5.4)\n",
            "Requirement already satisfied: orjson in /home/anku/sandbox/DAMG7245-Fall2023-Private/.venv/lib/python3.10/site-packages (from nougat-ocr[api]) (3.9.7)\n",
            "Requirement already satisfied: opencv-python-headless in /home/anku/sandbox/DAMG7245-Fall2023-Private/.venv/lib/python3.10/site-packages (from nougat-ocr[api]) (4.8.0.76)\n",
            "Requirement already satisfied: datasets[vision] in /home/anku/sandbox/DAMG7245-Fall2023-Private/.venv/lib/python3.10/site-packages (from nougat-ocr[api]) (2.14.5)\n",
            "Requirement already satisfied: lightning<2022,>=2.0.0 in /home/anku/sandbox/DAMG7245-Fall2023-Private/.venv/lib/python3.10/site-packages (from nougat-ocr[api]) (2.0.9)\n",
            "Requirement already satisfied: nltk in /home/anku/sandbox/DAMG7245-Fall2023-Private/.venv/lib/python3.10/site-packages (from nougat-ocr[api]) (3.8.1)\n",
            "Requirement already satisfied: python-Levenshtein in /home/anku/sandbox/DAMG7245-Fall2023-Private/.venv/lib/python3.10/site-packages (from nougat-ocr[api]) (0.22.0)\n",
            "Requirement already satisfied: sentencepiece in /home/anku/sandbox/DAMG7245-Fall2023-Private/.venv/lib/python3.10/site-packages (from nougat-ocr[api]) (0.1.99)\n",
            "Requirement already satisfied: sconf>=0.2.3 in /home/anku/sandbox/DAMG7245-Fall2023-Private/.venv/lib/python3.10/site-packages (from nougat-ocr[api]) (0.2.5)\n",
            "Requirement already satisfied: albumentations>=1.0.0 in /home/anku/sandbox/DAMG7245-Fall2023-Private/.venv/lib/python3.10/site-packages (from nougat-ocr[api]) (1.3.1)\n",
            "Requirement already satisfied: pypdf>=3.1.0 in /home/anku/sandbox/DAMG7245-Fall2023-Private/.venv/lib/python3.10/site-packages (from nougat-ocr[api]) (3.16.2)\n",
            "Requirement already satisfied: pypdfium2 in /home/anku/sandbox/DAMG7245-Fall2023-Private/.venv/lib/python3.10/site-packages (from nougat-ocr[api]) (4.20.0)\n",
            "Requirement already satisfied: fastapi in /home/anku/sandbox/DAMG7245-Fall2023-Private/.venv/lib/python3.10/site-packages (from nougat-ocr[api]) (0.103.1)\n",
            "Requirement already satisfied: uvicorn[standard] in /home/anku/sandbox/DAMG7245-Fall2023-Private/.venv/lib/python3.10/site-packages (from nougat-ocr[api]) (0.23.2)\n",
            "Requirement already satisfied: python-multipart in /home/anku/sandbox/DAMG7245-Fall2023-Private/.venv/lib/python3.10/site-packages (from nougat-ocr[api]) (0.0.6)\n",
            "Requirement already satisfied: torch>=1.4 in /home/anku/sandbox/DAMG7245-Fall2023-Private/.venv/lib/python3.10/site-packages (from timm==0.5.4->nougat-ocr[api]) (2.0.1)\n",
            "Requirement already satisfied: torchvision in /home/anku/sandbox/DAMG7245-Fall2023-Private/.venv/lib/python3.10/site-packages (from timm==0.5.4->nougat-ocr[api]) (0.15.2)\n",
            "Requirement already satisfied: numpy>=1.11.1 in /home/anku/sandbox/DAMG7245-Fall2023-Private/.venv/lib/python3.10/site-packages (from albumentations>=1.0.0->nougat-ocr[api]) (1.26.0)\n",
            "Requirement already satisfied: scipy>=1.1.0 in /home/anku/sandbox/DAMG7245-Fall2023-Private/.venv/lib/python3.10/site-packages (from albumentations>=1.0.0->nougat-ocr[api]) (1.11.3)\n",
            "Requirement already satisfied: scikit-image>=0.16.1 in /home/anku/sandbox/DAMG7245-Fall2023-Private/.venv/lib/python3.10/site-packages (from albumentations>=1.0.0->nougat-ocr[api]) (0.21.0)\n",
            "Requirement already satisfied: PyYAML in /home/anku/sandbox/DAMG7245-Fall2023-Private/.venv/lib/python3.10/site-packages (from albumentations>=1.0.0->nougat-ocr[api]) (6.0.1)\n",
            "Requirement already satisfied: qudida>=0.0.4 in /home/anku/sandbox/DAMG7245-Fall2023-Private/.venv/lib/python3.10/site-packages (from albumentations>=1.0.0->nougat-ocr[api]) (0.0.4)\n",
            "Requirement already satisfied: Jinja2<5.0 in /home/anku/sandbox/DAMG7245-Fall2023-Private/.venv/lib/python3.10/site-packages (from lightning<2022,>=2.0.0->nougat-ocr[api]) (3.1.2)\n",
            "Requirement already satisfied: arrow<3.0,>=1.2.0 in /home/anku/sandbox/DAMG7245-Fall2023-Private/.venv/lib/python3.10/site-packages (from lightning<2022,>=2.0.0->nougat-ocr[api]) (1.2.3)\n",
            "Requirement already satisfied: backoff<4.0,>=2.2.1 in /home/anku/sandbox/DAMG7245-Fall2023-Private/.venv/lib/python3.10/site-packages (from lightning<2022,>=2.0.0->nougat-ocr[api]) (2.2.1)\n",
            "Requirement already satisfied: beautifulsoup4<6.0,>=4.8.0 in /home/anku/sandbox/DAMG7245-Fall2023-Private/.venv/lib/python3.10/site-packages (from lightning<2022,>=2.0.0->nougat-ocr[api]) (4.12.2)\n",
            "Requirement already satisfied: click<10.0 in /home/anku/sandbox/DAMG7245-Fall2023-Private/.venv/lib/python3.10/site-packages (from lightning<2022,>=2.0.0->nougat-ocr[api]) (8.1.7)\n",
            "Requirement already satisfied: croniter<1.5.0,>=1.3.0 in /home/anku/sandbox/DAMG7245-Fall2023-Private/.venv/lib/python3.10/site-packages (from lightning<2022,>=2.0.0->nougat-ocr[api]) (1.4.1)\n",
            "Requirement already satisfied: dateutils<2.0 in /home/anku/sandbox/DAMG7245-Fall2023-Private/.venv/lib/python3.10/site-packages (from lightning<2022,>=2.0.0->nougat-ocr[api]) (0.6.12)\n",
            "Requirement already satisfied: deepdiff<8.0,>=5.7.0 in /home/anku/sandbox/DAMG7245-Fall2023-Private/.venv/lib/python3.10/site-packages (from lightning<2022,>=2.0.0->nougat-ocr[api]) (6.5.0)\n",
            "Requirement already satisfied: fsspec<2025.0,>=2022.5.0 in /home/anku/sandbox/DAMG7245-Fall2023-Private/.venv/lib/python3.10/site-packages (from lightning<2022,>=2.0.0->nougat-ocr[api]) (2023.6.0)\n",
            "Requirement already satisfied: inquirer<5.0,>=2.10.0 in /home/anku/sandbox/DAMG7245-Fall2023-Private/.venv/lib/python3.10/site-packages (from lightning<2022,>=2.0.0->nougat-ocr[api]) (3.1.3)\n",
            "Requirement already satisfied: lightning-cloud>=0.5.38 in /home/anku/sandbox/DAMG7245-Fall2023-Private/.venv/lib/python3.10/site-packages (from lightning<2022,>=2.0.0->nougat-ocr[api]) (0.5.38)\n",
            "Requirement already satisfied: lightning-utilities<2.0,>=0.7.0 in /home/anku/sandbox/DAMG7245-Fall2023-Private/.venv/lib/python3.10/site-packages (from lightning<2022,>=2.0.0->nougat-ocr[api]) (0.9.0)\n",
            "Requirement already satisfied: packaging in /home/anku/sandbox/DAMG7245-Fall2023-Private/.venv/lib/python3.10/site-packages (from lightning<2022,>=2.0.0->nougat-ocr[api]) (23.1)\n",
            "Requirement already satisfied: psutil<7.0 in /home/anku/sandbox/DAMG7245-Fall2023-Private/.venv/lib/python3.10/site-packages (from lightning<2022,>=2.0.0->nougat-ocr[api]) (5.9.5)\n",
            "Requirement already satisfied: pydantic<2.2.0,>=1.7.4 in /home/anku/sandbox/DAMG7245-Fall2023-Private/.venv/lib/python3.10/site-packages (from lightning<2022,>=2.0.0->nougat-ocr[api]) (2.1.1)\n",
            "Requirement already satisfied: requests<4.0 in /home/anku/sandbox/DAMG7245-Fall2023-Private/.venv/lib/python3.10/site-packages (from lightning<2022,>=2.0.0->nougat-ocr[api]) (2.31.0)\n",
            "Requirement already satisfied: rich<15.0,>=12.3.0 in /home/anku/sandbox/DAMG7245-Fall2023-Private/.venv/lib/python3.10/site-packages (from lightning<2022,>=2.0.0->nougat-ocr[api]) (13.5.3)\n",
            "Requirement already satisfied: starlette in /home/anku/sandbox/DAMG7245-Fall2023-Private/.venv/lib/python3.10/site-packages (from lightning<2022,>=2.0.0->nougat-ocr[api]) (0.27.0)\n",
            "Requirement already satisfied: starsessions<2.0,>=1.2.1 in /home/anku/sandbox/DAMG7245-Fall2023-Private/.venv/lib/python3.10/site-packages (from lightning<2022,>=2.0.0->nougat-ocr[api]) (1.3.0)\n",
            "Requirement already satisfied: torchmetrics<3.0,>=0.7.0 in /home/anku/sandbox/DAMG7245-Fall2023-Private/.venv/lib/python3.10/site-packages (from lightning<2022,>=2.0.0->nougat-ocr[api]) (1.2.0)\n",
            "Requirement already satisfied: tqdm<6.0,>=4.57.0 in /home/anku/sandbox/DAMG7245-Fall2023-Private/.venv/lib/python3.10/site-packages (from lightning<2022,>=2.0.0->nougat-ocr[api]) (4.66.1)\n",
            "Requirement already satisfied: traitlets<7.0,>=5.3.0 in /home/anku/sandbox/DAMG7245-Fall2023-Private/.venv/lib/python3.10/site-packages (from lightning<2022,>=2.0.0->nougat-ocr[api]) (5.10.1)\n",
            "Requirement already satisfied: typing-extensions<6.0,>=4.0.0 in /home/anku/sandbox/DAMG7245-Fall2023-Private/.venv/lib/python3.10/site-packages (from lightning<2022,>=2.0.0->nougat-ocr[api]) (4.8.0)\n",
            "Requirement already satisfied: urllib3<4.0 in /home/anku/sandbox/DAMG7245-Fall2023-Private/.venv/lib/python3.10/site-packages (from lightning<2022,>=2.0.0->nougat-ocr[api]) (2.0.5)\n",
            "Requirement already satisfied: websocket-client<3.0 in /home/anku/sandbox/DAMG7245-Fall2023-Private/.venv/lib/python3.10/site-packages (from lightning<2022,>=2.0.0->nougat-ocr[api]) (1.6.3)\n",
            "Requirement already satisfied: websockets<13.0 in /home/anku/sandbox/DAMG7245-Fall2023-Private/.venv/lib/python3.10/site-packages (from lightning<2022,>=2.0.0->nougat-ocr[api]) (11.0.3)\n",
            "Requirement already satisfied: pytorch-lightning in /home/anku/sandbox/DAMG7245-Fall2023-Private/.venv/lib/python3.10/site-packages (from lightning<2022,>=2.0.0->nougat-ocr[api]) (2.0.9)\n",
            "Requirement already satisfied: anyio<4.0.0,>=3.7.1 in /home/anku/sandbox/DAMG7245-Fall2023-Private/.venv/lib/python3.10/site-packages (from fastapi->nougat-ocr[api]) (3.7.1)\n",
            "Requirement already satisfied: ruamel.yaml in /home/anku/sandbox/DAMG7245-Fall2023-Private/.venv/lib/python3.10/site-packages (from sconf>=0.2.3->nougat-ocr[api]) (0.17.32)\n",
            "Requirement already satisfied: munch in /home/anku/sandbox/DAMG7245-Fall2023-Private/.venv/lib/python3.10/site-packages (from sconf>=0.2.3->nougat-ocr[api]) (4.0.0)\n",
            "Requirement already satisfied: filelock in /home/anku/sandbox/DAMG7245-Fall2023-Private/.venv/lib/python3.10/site-packages (from transformers>=4.25.1->nougat-ocr[api]) (3.12.4)\n",
            "Requirement already satisfied: huggingface-hub<1.0,>=0.15.1 in /home/anku/sandbox/DAMG7245-Fall2023-Private/.venv/lib/python3.10/site-packages (from transformers>=4.25.1->nougat-ocr[api]) (0.17.3)\n",
            "Requirement already satisfied: regex!=2019.12.17 in /home/anku/sandbox/DAMG7245-Fall2023-Private/.venv/lib/python3.10/site-packages (from transformers>=4.25.1->nougat-ocr[api]) (2023.8.8)\n",
            "Requirement already satisfied: tokenizers!=0.11.3,<0.14,>=0.11.1 in /home/anku/sandbox/DAMG7245-Fall2023-Private/.venv/lib/python3.10/site-packages (from transformers>=4.25.1->nougat-ocr[api]) (0.13.3)\n",
            "Requirement already satisfied: safetensors>=0.3.1 in /home/anku/sandbox/DAMG7245-Fall2023-Private/.venv/lib/python3.10/site-packages (from transformers>=4.25.1->nougat-ocr[api]) (0.3.3)\n",
            "Requirement already satisfied: pyarrow>=8.0.0 in /home/anku/sandbox/DAMG7245-Fall2023-Private/.venv/lib/python3.10/site-packages (from datasets[vision]->nougat-ocr[api]) (13.0.0)\n",
            "Requirement already satisfied: dill<0.3.8,>=0.3.0 in /home/anku/sandbox/DAMG7245-Fall2023-Private/.venv/lib/python3.10/site-packages (from datasets[vision]->nougat-ocr[api]) (0.3.7)\n",
            "Requirement already satisfied: pandas in /home/anku/sandbox/DAMG7245-Fall2023-Private/.venv/lib/python3.10/site-packages (from datasets[vision]->nougat-ocr[api]) (2.1.1)\n",
            "Requirement already satisfied: xxhash in /home/anku/sandbox/DAMG7245-Fall2023-Private/.venv/lib/python3.10/site-packages (from datasets[vision]->nougat-ocr[api]) (3.3.0)\n",
            "Requirement already satisfied: multiprocess in /home/anku/sandbox/DAMG7245-Fall2023-Private/.venv/lib/python3.10/site-packages (from datasets[vision]->nougat-ocr[api]) (0.70.15)\n",
            "Requirement already satisfied: aiohttp in /home/anku/sandbox/DAMG7245-Fall2023-Private/.venv/lib/python3.10/site-packages (from datasets[vision]->nougat-ocr[api]) (3.8.5)\n",
            "Requirement already satisfied: Pillow>=6.2.1 in /home/anku/sandbox/DAMG7245-Fall2023-Private/.venv/lib/python3.10/site-packages (from datasets[vision]->nougat-ocr[api]) (10.0.1)\n",
            "Requirement already satisfied: joblib in /home/anku/sandbox/DAMG7245-Fall2023-Private/.venv/lib/python3.10/site-packages (from nltk->nougat-ocr[api]) (1.3.2)\n",
            "Requirement already satisfied: Levenshtein==0.22.0 in /home/anku/sandbox/DAMG7245-Fall2023-Private/.venv/lib/python3.10/site-packages (from python-Levenshtein->nougat-ocr[api]) (0.22.0)\n",
            "Requirement already satisfied: rapidfuzz<4.0.0,>=2.3.0 in /home/anku/sandbox/DAMG7245-Fall2023-Private/.venv/lib/python3.10/site-packages (from Levenshtein==0.22.0->python-Levenshtein->nougat-ocr[api]) (3.3.1)\n",
            "Requirement already satisfied: h11>=0.8 in /home/anku/sandbox/DAMG7245-Fall2023-Private/.venv/lib/python3.10/site-packages (from uvicorn[standard]->nougat-ocr[api]) (0.14.0)\n",
            "Requirement already satisfied: httptools>=0.5.0 in /home/anku/sandbox/DAMG7245-Fall2023-Private/.venv/lib/python3.10/site-packages (from uvicorn[standard]->nougat-ocr[api]) (0.6.0)\n",
            "Requirement already satisfied: python-dotenv>=0.13 in /home/anku/sandbox/DAMG7245-Fall2023-Private/.venv/lib/python3.10/site-packages (from uvicorn[standard]->nougat-ocr[api]) (1.0.0)\n",
            "Requirement already satisfied: uvloop!=0.15.0,!=0.15.1,>=0.14.0 in /home/anku/sandbox/DAMG7245-Fall2023-Private/.venv/lib/python3.10/site-packages (from uvicorn[standard]->nougat-ocr[api]) (0.17.0)\n",
            "Requirement already satisfied: watchfiles>=0.13 in /home/anku/sandbox/DAMG7245-Fall2023-Private/.venv/lib/python3.10/site-packages (from uvicorn[standard]->nougat-ocr[api]) (0.20.0)\n",
            "Requirement already satisfied: idna>=2.8 in /home/anku/sandbox/DAMG7245-Fall2023-Private/.venv/lib/python3.10/site-packages (from anyio<4.0.0,>=3.7.1->fastapi->nougat-ocr[api]) (3.4)\n",
            "Requirement already satisfied: sniffio>=1.1 in /home/anku/sandbox/DAMG7245-Fall2023-Private/.venv/lib/python3.10/site-packages (from anyio<4.0.0,>=3.7.1->fastapi->nougat-ocr[api]) (1.3.0)\n",
            "Requirement already satisfied: exceptiongroup in /home/anku/sandbox/DAMG7245-Fall2023-Private/.venv/lib/python3.10/site-packages (from anyio<4.0.0,>=3.7.1->fastapi->nougat-ocr[api]) (1.1.3)\n",
            "Requirement already satisfied: python-dateutil>=2.7.0 in /home/anku/sandbox/DAMG7245-Fall2023-Private/.venv/lib/python3.10/site-packages (from arrow<3.0,>=1.2.0->lightning<2022,>=2.0.0->nougat-ocr[api]) (2.8.2)\n",
            "Requirement already satisfied: soupsieve>1.2 in /home/anku/sandbox/DAMG7245-Fall2023-Private/.venv/lib/python3.10/site-packages (from beautifulsoup4<6.0,>=4.8.0->lightning<2022,>=2.0.0->nougat-ocr[api]) (2.5)\n",
            "Requirement already satisfied: pytz in /home/anku/sandbox/DAMG7245-Fall2023-Private/.venv/lib/python3.10/site-packages (from dateutils<2.0->lightning<2022,>=2.0.0->nougat-ocr[api]) (2023.3.post1)\n",
            "Requirement already satisfied: ordered-set<4.2.0,>=4.0.2 in /home/anku/sandbox/DAMG7245-Fall2023-Private/.venv/lib/python3.10/site-packages (from deepdiff<8.0,>=5.7.0->lightning<2022,>=2.0.0->nougat-ocr[api]) (4.1.0)\n",
            "Requirement already satisfied: attrs>=17.3.0 in /home/anku/sandbox/DAMG7245-Fall2023-Private/.venv/lib/python3.10/site-packages (from aiohttp->datasets[vision]->nougat-ocr[api]) (23.1.0)\n",
            "Requirement already satisfied: charset-normalizer<4.0,>=2.0 in /home/anku/sandbox/DAMG7245-Fall2023-Private/.venv/lib/python3.10/site-packages (from aiohttp->datasets[vision]->nougat-ocr[api]) (3.2.0)\n",
            "Requirement already satisfied: multidict<7.0,>=4.5 in /home/anku/sandbox/DAMG7245-Fall2023-Private/.venv/lib/python3.10/site-packages (from aiohttp->datasets[vision]->nougat-ocr[api]) (6.0.4)\n",
            "Requirement already satisfied: async-timeout<5.0,>=4.0.0a3 in /home/anku/sandbox/DAMG7245-Fall2023-Private/.venv/lib/python3.10/site-packages (from aiohttp->datasets[vision]->nougat-ocr[api]) (4.0.3)\n",
            "Requirement already satisfied: yarl<2.0,>=1.0 in /home/anku/sandbox/DAMG7245-Fall2023-Private/.venv/lib/python3.10/site-packages (from aiohttp->datasets[vision]->nougat-ocr[api]) (1.9.2)\n",
            "Requirement already satisfied: frozenlist>=1.1.1 in /home/anku/sandbox/DAMG7245-Fall2023-Private/.venv/lib/python3.10/site-packages (from aiohttp->datasets[vision]->nougat-ocr[api]) (1.4.0)\n",
            "Requirement already satisfied: aiosignal>=1.1.2 in /home/anku/sandbox/DAMG7245-Fall2023-Private/.venv/lib/python3.10/site-packages (from aiohttp->datasets[vision]->nougat-ocr[api]) (1.3.1)\n",
            "Requirement already satisfied: blessed>=1.19.0 in /home/anku/sandbox/DAMG7245-Fall2023-Private/.venv/lib/python3.10/site-packages (from inquirer<5.0,>=2.10.0->lightning<2022,>=2.0.0->nougat-ocr[api]) (1.20.0)\n",
            "Requirement already satisfied: python-editor>=1.0.4 in /home/anku/sandbox/DAMG7245-Fall2023-Private/.venv/lib/python3.10/site-packages (from inquirer<5.0,>=2.10.0->lightning<2022,>=2.0.0->nougat-ocr[api]) (1.0.4)\n",
            "Requirement already satisfied: readchar>=3.0.6 in /home/anku/sandbox/DAMG7245-Fall2023-Private/.venv/lib/python3.10/site-packages (from inquirer<5.0,>=2.10.0->lightning<2022,>=2.0.0->nougat-ocr[api]) (4.0.5)\n",
            "Requirement already satisfied: MarkupSafe>=2.0 in /home/anku/sandbox/DAMG7245-Fall2023-Private/.venv/lib/python3.10/site-packages (from Jinja2<5.0->lightning<2022,>=2.0.0->nougat-ocr[api]) (2.1.3)\n",
            "Requirement already satisfied: pyjwt in /home/anku/sandbox/DAMG7245-Fall2023-Private/.venv/lib/python3.10/site-packages (from lightning-cloud>=0.5.38->lightning<2022,>=2.0.0->nougat-ocr[api]) (2.8.0)\n",
            "Requirement already satisfied: six in /home/anku/sandbox/DAMG7245-Fall2023-Private/.venv/lib/python3.10/site-packages (from lightning-cloud>=0.5.38->lightning<2022,>=2.0.0->nougat-ocr[api]) (1.16.0)\n",
            "Requirement already satisfied: annotated-types>=0.4.0 in /home/anku/sandbox/DAMG7245-Fall2023-Private/.venv/lib/python3.10/site-packages (from pydantic<2.2.0,>=1.7.4->lightning<2022,>=2.0.0->nougat-ocr[api]) (0.5.0)\n",
            "Requirement already satisfied: pydantic-core==2.4.0 in /home/anku/sandbox/DAMG7245-Fall2023-Private/.venv/lib/python3.10/site-packages (from pydantic<2.2.0,>=1.7.4->lightning<2022,>=2.0.0->nougat-ocr[api]) (2.4.0)\n",
            "Requirement already satisfied: scikit-learn>=0.19.1 in /home/anku/sandbox/DAMG7245-Fall2023-Private/.venv/lib/python3.10/site-packages (from qudida>=0.0.4->albumentations>=1.0.0->nougat-ocr[api]) (1.3.1)\n",
            "Requirement already satisfied: certifi>=2017.4.17 in /home/anku/sandbox/DAMG7245-Fall2023-Private/.venv/lib/python3.10/site-packages (from requests<4.0->lightning<2022,>=2.0.0->nougat-ocr[api]) (2023.7.22)\n",
            "Requirement already satisfied: markdown-it-py>=2.2.0 in /home/anku/sandbox/DAMG7245-Fall2023-Private/.venv/lib/python3.10/site-packages (from rich<15.0,>=12.3.0->lightning<2022,>=2.0.0->nougat-ocr[api]) (3.0.0)\n",
            "Requirement already satisfied: pygments<3.0.0,>=2.13.0 in /home/anku/sandbox/DAMG7245-Fall2023-Private/.venv/lib/python3.10/site-packages (from rich<15.0,>=12.3.0->lightning<2022,>=2.0.0->nougat-ocr[api]) (2.16.1)\n",
            "Requirement already satisfied: networkx>=2.8 in /home/anku/sandbox/DAMG7245-Fall2023-Private/.venv/lib/python3.10/site-packages (from scikit-image>=0.16.1->albumentations>=1.0.0->nougat-ocr[api]) (3.1)\n",
            "Requirement already satisfied: imageio>=2.27 in /home/anku/sandbox/DAMG7245-Fall2023-Private/.venv/lib/python3.10/site-packages (from scikit-image>=0.16.1->albumentations>=1.0.0->nougat-ocr[api]) (2.31.4)\n",
            "Requirement already satisfied: tifffile>=2022.8.12 in /home/anku/sandbox/DAMG7245-Fall2023-Private/.venv/lib/python3.10/site-packages (from scikit-image>=0.16.1->albumentations>=1.0.0->nougat-ocr[api]) (2023.9.26)\n",
            "Requirement already satisfied: PyWavelets>=1.1.1 in /home/anku/sandbox/DAMG7245-Fall2023-Private/.venv/lib/python3.10/site-packages (from scikit-image>=0.16.1->albumentations>=1.0.0->nougat-ocr[api]) (1.4.1)\n",
            "Requirement already satisfied: lazy_loader>=0.2 in /home/anku/sandbox/DAMG7245-Fall2023-Private/.venv/lib/python3.10/site-packages (from scikit-image>=0.16.1->albumentations>=1.0.0->nougat-ocr[api]) (0.3)\n",
            "Requirement already satisfied: itsdangerous<3.0.0,>=2.0.1 in /home/anku/sandbox/DAMG7245-Fall2023-Private/.venv/lib/python3.10/site-packages (from starsessions<2.0,>=1.2.1->lightning<2022,>=2.0.0->nougat-ocr[api]) (2.1.2)\n",
            "Requirement already satisfied: sympy in /home/anku/sandbox/DAMG7245-Fall2023-Private/.venv/lib/python3.10/site-packages (from torch>=1.4->timm==0.5.4->nougat-ocr[api]) (1.12)\n",
            "Requirement already satisfied: nvidia-cuda-nvrtc-cu11==11.7.99 in /home/anku/sandbox/DAMG7245-Fall2023-Private/.venv/lib/python3.10/site-packages (from torch>=1.4->timm==0.5.4->nougat-ocr[api]) (11.7.99)\n",
            "Requirement already satisfied: nvidia-cuda-runtime-cu11==11.7.99 in /home/anku/sandbox/DAMG7245-Fall2023-Private/.venv/lib/python3.10/site-packages (from torch>=1.4->timm==0.5.4->nougat-ocr[api]) (11.7.99)\n",
            "Requirement already satisfied: nvidia-cuda-cupti-cu11==11.7.101 in /home/anku/sandbox/DAMG7245-Fall2023-Private/.venv/lib/python3.10/site-packages (from torch>=1.4->timm==0.5.4->nougat-ocr[api]) (11.7.101)\n",
            "Requirement already satisfied: nvidia-cudnn-cu11==8.5.0.96 in /home/anku/sandbox/DAMG7245-Fall2023-Private/.venv/lib/python3.10/site-packages (from torch>=1.4->timm==0.5.4->nougat-ocr[api]) (8.5.0.96)\n",
            "Requirement already satisfied: nvidia-cublas-cu11==11.10.3.66 in /home/anku/sandbox/DAMG7245-Fall2023-Private/.venv/lib/python3.10/site-packages (from torch>=1.4->timm==0.5.4->nougat-ocr[api]) (11.10.3.66)\n",
            "Requirement already satisfied: nvidia-cufft-cu11==10.9.0.58 in /home/anku/sandbox/DAMG7245-Fall2023-Private/.venv/lib/python3.10/site-packages (from torch>=1.4->timm==0.5.4->nougat-ocr[api]) (10.9.0.58)\n",
            "Requirement already satisfied: nvidia-curand-cu11==10.2.10.91 in /home/anku/sandbox/DAMG7245-Fall2023-Private/.venv/lib/python3.10/site-packages (from torch>=1.4->timm==0.5.4->nougat-ocr[api]) (10.2.10.91)\n",
            "Requirement already satisfied: nvidia-cusolver-cu11==11.4.0.1 in /home/anku/sandbox/DAMG7245-Fall2023-Private/.venv/lib/python3.10/site-packages (from torch>=1.4->timm==0.5.4->nougat-ocr[api]) (11.4.0.1)\n",
            "Requirement already satisfied: nvidia-cusparse-cu11==11.7.4.91 in /home/anku/sandbox/DAMG7245-Fall2023-Private/.venv/lib/python3.10/site-packages (from torch>=1.4->timm==0.5.4->nougat-ocr[api]) (11.7.4.91)\n",
            "Requirement already satisfied: nvidia-nccl-cu11==2.14.3 in /home/anku/sandbox/DAMG7245-Fall2023-Private/.venv/lib/python3.10/site-packages (from torch>=1.4->timm==0.5.4->nougat-ocr[api]) (2.14.3)\n",
            "Requirement already satisfied: nvidia-nvtx-cu11==11.7.91 in /home/anku/sandbox/DAMG7245-Fall2023-Private/.venv/lib/python3.10/site-packages (from torch>=1.4->timm==0.5.4->nougat-ocr[api]) (11.7.91)\n",
            "Requirement already satisfied: triton==2.0.0 in /home/anku/sandbox/DAMG7245-Fall2023-Private/.venv/lib/python3.10/site-packages (from torch>=1.4->timm==0.5.4->nougat-ocr[api]) (2.0.0)\n",
            "Requirement already satisfied: setuptools in /home/anku/sandbox/DAMG7245-Fall2023-Private/.venv/lib/python3.10/site-packages (from nvidia-cublas-cu11==11.10.3.66->torch>=1.4->timm==0.5.4->nougat-ocr[api]) (59.6.0)\n",
            "Requirement already satisfied: wheel in /home/anku/sandbox/DAMG7245-Fall2023-Private/.venv/lib/python3.10/site-packages (from nvidia-cublas-cu11==11.10.3.66->torch>=1.4->timm==0.5.4->nougat-ocr[api]) (0.41.2)\n",
            "Requirement already satisfied: cmake in /home/anku/sandbox/DAMG7245-Fall2023-Private/.venv/lib/python3.10/site-packages (from triton==2.0.0->torch>=1.4->timm==0.5.4->nougat-ocr[api]) (3.27.5)\n",
            "Requirement already satisfied: lit in /home/anku/sandbox/DAMG7245-Fall2023-Private/.venv/lib/python3.10/site-packages (from triton==2.0.0->torch>=1.4->timm==0.5.4->nougat-ocr[api]) (17.0.1)\n",
            "Requirement already satisfied: tzdata>=2022.1 in /home/anku/sandbox/DAMG7245-Fall2023-Private/.venv/lib/python3.10/site-packages (from pandas->datasets[vision]->nougat-ocr[api]) (2023.3)\n",
            "Requirement already satisfied: ruamel.yaml.clib>=0.2.7 in /home/anku/sandbox/DAMG7245-Fall2023-Private/.venv/lib/python3.10/site-packages (from ruamel.yaml->sconf>=0.2.3->nougat-ocr[api]) (0.2.7)\n",
            "Requirement already satisfied: wcwidth>=0.1.4 in /home/anku/sandbox/DAMG7245-Fall2023-Private/.venv/lib/python3.10/site-packages (from blessed>=1.19.0->inquirer<5.0,>=2.10.0->lightning<2022,>=2.0.0->nougat-ocr[api]) (0.2.6)\n",
            "Requirement already satisfied: mdurl~=0.1 in /home/anku/sandbox/DAMG7245-Fall2023-Private/.venv/lib/python3.10/site-packages (from markdown-it-py>=2.2.0->rich<15.0,>=12.3.0->lightning<2022,>=2.0.0->nougat-ocr[api]) (0.1.2)\n",
            "Requirement already satisfied: threadpoolctl>=2.0.0 in /home/anku/sandbox/DAMG7245-Fall2023-Private/.venv/lib/python3.10/site-packages (from scikit-learn>=0.19.1->qudida>=0.0.4->albumentations>=1.0.0->nougat-ocr[api]) (3.2.0)\n",
            "Requirement already satisfied: mpmath>=0.19 in /home/anku/sandbox/DAMG7245-Fall2023-Private/.venv/lib/python3.10/site-packages (from sympy->torch>=1.4->timm==0.5.4->nougat-ocr[api]) (1.3.0)\n",
            "Note: you may need to restart the kernel to use updated packages.\n"
          ]
        }
      ],
      "source": [
        "%pip install nougat-ocr[api]"
      ]
    },
    {
      "cell_type": "code",
      "execution_count": 5,
      "metadata": {},
      "outputs": [],
      "source": [
        "import os"
      ]
    },
    {
      "cell_type": "code",
      "execution_count": 3,
      "metadata": {
        "id": "-WAQb7geGQ7d"
      },
      "outputs": [
        {
          "name": "stderr",
          "output_type": "stream",
          "text": [
            "UsageError: Line magic function `%nougat_api` not found.\n"
          ]
        }
      ],
      "source": [
        "%nougat_api &>/content/logs.txt &"
      ]
    },
    {
      "cell_type": "code",
      "execution_count": null,
      "metadata": {
        "colab": {
          "base_uri": "https://localhost:8080/"
        },
        "id": "XaawtUDuHHzn",
        "outputId": "dbb12812-aff4-4fd9-e147-f5dcefec09fd"
      },
      "outputs": [],
      "source": [
        "%%bash\n",
        "\n",
        "cat /content/logs.txt"
      ]
    },
    {
      "cell_type": "code",
      "execution_count": 5,
      "metadata": {
        "colab": {
          "base_uri": "https://localhost:8080/"
        },
        "id": "6RyxaD4gHPk7",
        "outputId": "f129e1d5-3e75-431c-871e-b0251094201f"
      },
      "outputs": [
        {
          "name": "stdout",
          "output_type": "stream",
          "text": [
            "{\"status-code\":200,\"data\":{}}"
          ]
        },
        {
          "name": "stderr",
          "output_type": "stream",
          "text": [
            "  % Total    % Received % Xferd  Average Speed   Time    Time     Time  Current\n",
            "                                 Dload  Upload   Total   Spent    Left  Speed\n",
            "\r  0     0    0     0    0     0      0      0 --:--:-- --:--:-- --:--:--     0\r100    29  100    29    0     0   3832      0 --:--:-- --:--:-- --:--:--  4142\n"
          ]
        }
      ],
      "source": [
        "%%bash\n",
        "\n",
        "curl --location 'http://127.0.0.1:8503'"
      ]
    },
    {
      "cell_type": "markdown",
      "metadata": {
        "id": "O5R35t2cHgU3"
      },
      "source": [
        "If the response is `200` indicates the api server is running on colab\n",
        "\n",
        "```bash\n",
        "{\"status-code\":200,\"data\":{}}  % Total    % Received % Xferd  Average Speed   Time    Time     Time  Current\n",
        "                                 Dload  Upload   Total   Spent    Left  Speed\n",
        "100    29  100    29    0     0   3832      0 --:--:-- --:--:-- --:--:--  4142\n",
        "```"
      ]
    },
    {
      "cell_type": "markdown",
      "metadata": {
        "id": "YFn8xPmMIpIR"
      },
      "source": [
        "## Tunnel into Colab Machine\n",
        "\n",
        "Choose either of the option:\n",
        "\n",
        "1. ngrok - https://ngrok.com/\n",
        "2. localtunnel -  https://theboroer.github.io/localtunnel-www/"
      ]
    },
    {
      "cell_type": "markdown",
      "metadata": {
        "id": "IIADV5a0JTfE"
      },
      "source": [
        "## Ngrok\n",
        "\n",
        "* Signup for a free account ngrok\n",
        "* Obtain a authtoken from https://dashboard.ngrok.com/auth"
      ]
    },
    {
      "cell_type": "code",
      "execution_count": 9,
      "metadata": {
        "colab": {
          "base_uri": "https://localhost:8080/"
        },
        "id": "mYG1cw08GOmj",
        "outputId": "b43b330e-cb97-4493-f453-17b79af2ef22"
      },
      "outputs": [
        {
          "name": "stdout",
          "output_type": "stream",
          "text": [
            "Collecting pyngrok\n",
            "  Downloading pyngrok-7.0.0.tar.gz (718 kB)\n",
            "\u001b[2K     \u001b[90m━━━━━━━━━━━━━━━━━━━━━━━━━━━━━━━━━━━━━━\u001b[0m \u001b[32m718.7/718.7 kB\u001b[0m \u001b[31m12.0 MB/s\u001b[0m eta \u001b[36m0:00:00\u001b[0m\n",
            "\u001b[?25h  Preparing metadata (setup.py) ... \u001b[?25l\u001b[?25hdone\n",
            "Requirement already satisfied: PyYAML in /usr/local/lib/python3.10/dist-packages (from pyngrok) (6.0.1)\n",
            "Building wheels for collected packages: pyngrok\n",
            "  Building wheel for pyngrok (setup.py) ... \u001b[?25l\u001b[?25hdone\n",
            "  Created wheel for pyngrok: filename=pyngrok-7.0.0-py3-none-any.whl size=21129 sha256=8a26adf3b8ac20079fdd6d84ee382a7380cac054f4ccd143bd41b9d97599f09b\n",
            "  Stored in directory: /root/.cache/pip/wheels/60/29/7b/f64332aa7e5e88fbd56d4002185ae22dcdc83b35b3d1c2cbf5\n",
            "Successfully built pyngrok\n",
            "Installing collected packages: pyngrok\n",
            "Successfully installed pyngrok-7.0.0\n"
          ]
        }
      ],
      "source": [
        "%pip install pyngrok"
      ]
    },
    {
      "cell_type": "code",
      "execution_count": 10,
      "metadata": {
        "id": "x8nRjwItzYeu"
      },
      "outputs": [],
      "source": [
        "from pyngrok import ngrok, conf\n",
        "import getpass"
      ]
    },
    {
      "cell_type": "code",
      "execution_count": 11,
      "metadata": {
        "colab": {
          "base_uri": "https://localhost:8080/"
        },
        "id": "Pi9pQIG_zYb7",
        "outputId": "f8ed8b2e-f8c0-4c0e-fd79-870d3737f9ce"
      },
      "outputs": [
        {
          "name": "stdout",
          "output_type": "stream",
          "text": [
            "Enter your authtoken, which can be copied from https://dashboard.ngrok.com/auth\n",
            "··········\n"
          ]
        }
      ],
      "source": [
        "print(\"Enter your authtoken, which can be copied from https://dashboard.ngrok.com/auth\")\n",
        "conf.get_default().auth_token = getpass.getpass()"
      ]
    },
    {
      "cell_type": "code",
      "execution_count": 17,
      "metadata": {
        "colab": {
          "base_uri": "https://localhost:8080/"
        },
        "id": "5VhoZomszYY5",
        "outputId": "c9248e5c-b438-4eae-f468-7e11ffd35e86"
      },
      "outputs": [
        {
          "name": "stdout",
          "output_type": "stream",
          "text": [
            "Tunned 'http://127.0.0.1:8503' to 'https://8e23-35-198-241-189.ngrok-free.app'\n",
            "Visit the SwaggerAPI doc on 'https://8e23-35-198-241-189.ngrok-free.app/docs'\n"
          ]
        }
      ],
      "source": [
        "port = 8503\n",
        "public_url = ngrok.connect(port).public_url\n",
        "print(f\"Tunned 'http://127.0.0.1:{port}' to '{public_url}'\")\n",
        "print(f\"Visit the SwaggerAPI doc on '{public_url}/docs'\")"
      ]
    },
    {
      "cell_type": "code",
      "execution_count": 16,
      "metadata": {
        "id": "XaB9YzxNzYV_"
      },
      "outputs": [],
      "source": [
        "ngrok.disconnect(public_url)"
      ]
    },
    {
      "cell_type": "markdown",
      "metadata": {
        "id": "1MVBRgSuK63C"
      },
      "source": [
        "## Localtunnel\n",
        "\n",
        "* Free to use"
      ]
    },
    {
      "cell_type": "code",
      "execution_count": 18,
      "metadata": {
        "colab": {
          "base_uri": "https://localhost:8080/"
        },
        "id": "s1rqD0Uu7fEV",
        "outputId": "1642b55f-a96c-4cb3-bbac-9070e06f456e"
      },
      "outputs": [
        {
          "name": "stdout",
          "output_type": "stream",
          "text": [
            "\u001b[K\u001b[?25h\u001b[37;40mnpm\u001b[0m \u001b[0m\u001b[30;43mWARN\u001b[0m \u001b[0m\u001b[35msaveError\u001b[0m ENOENT: no such file or directory, open '/content/package.json'\n",
            "\u001b[0m\u001b[37;40mnpm\u001b[0m \u001b[0m\u001b[34;40mnotice\u001b[0m\u001b[35m\u001b[0m created a lockfile as package-lock.json. You should commit this file.\n",
            "\u001b[0m\u001b[37;40mnpm\u001b[0m \u001b[0m\u001b[30;43mWARN\u001b[0m \u001b[0m\u001b[35menoent\u001b[0m ENOENT: no such file or directory, open '/content/package.json'\n",
            "\u001b[0m\u001b[37;40mnpm\u001b[0m \u001b[0m\u001b[30;43mWARN\u001b[0m\u001b[35m\u001b[0m content No description\n",
            "\u001b[0m\u001b[37;40mnpm\u001b[0m \u001b[0m\u001b[30;43mWARN\u001b[0m\u001b[35m\u001b[0m content No repository field.\n",
            "\u001b[0m\u001b[37;40mnpm\u001b[0m \u001b[0m\u001b[30;43mWARN\u001b[0m\u001b[35m\u001b[0m content No README data\n",
            "\u001b[0m\u001b[37;40mnpm\u001b[0m \u001b[0m\u001b[30;43mWARN\u001b[0m\u001b[35m\u001b[0m content No license field.\n",
            "\u001b[0m\n",
            "+ localtunnel@2.0.2\n",
            "added 22 packages from 22 contributors and audited 22 packages in 3.048s\n",
            "\n",
            "3 packages are looking for funding\n",
            "  run `npm fund` for details\n",
            "\n",
            "found \u001b[92m0\u001b[0m vulnerabilities\n",
            "\n"
          ]
        }
      ],
      "source": [
        "!npm install localtunnel"
      ]
    },
    {
      "cell_type": "code",
      "execution_count": 19,
      "metadata": {
        "colab": {
          "base_uri": "https://localhost:8080/"
        },
        "id": "rhVakbvJ7fB7",
        "outputId": "5e28ab5c-9989-4e93-ecc5-493264ac658e"
      },
      "outputs": [
        {
          "name": "stdout",
          "output_type": "stream",
          "text": [
            "35.198.241.189\n",
            "\u001b[K\u001b[?25hnpx: installed 22 in 2.071s\n",
            "your url is: https://honest-apples-sniff.loca.lt\n"
          ]
        }
      ],
      "source": [
        "!npx localtunnel --port 8503 & curl ipv4.icanhazip.com"
      ]
    },
    {
      "cell_type": "markdown",
      "metadata": {
        "id": "jhY1WYGwL7Zs"
      },
      "source": [
        "Copy in the Public machine IP and paste it to confirm to visit the URL"
      ]
    }
  ],
  "metadata": {
    "accelerator": "GPU",
    "colab": {
      "gpuType": "T4",
      "include_colab_link": true,
      "provenance": [],
      "toc_visible": true
    },
    "kernelspec": {
      "display_name": "Python 3",
      "name": "python3"
    },
    "language_info": {
      "codemirror_mode": {
        "name": "ipython",
        "version": 3
      },
      "file_extension": ".py",
      "mimetype": "text/x-python",
      "name": "python",
      "nbconvert_exporter": "python",
      "pygments_lexer": "ipython3",
      "version": "3.10.12"
    }
  },
  "nbformat": 4,
  "nbformat_minor": 0
}
