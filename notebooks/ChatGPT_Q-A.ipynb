{
  "cells": [
    {
      "cell_type": "markdown",
      "metadata": {
        "colab_type": "text",
        "id": "view-in-github"
      },
      "source": [
        "<a href=\"https://colab.research.google.com/github/piyush-an/DAMG7245-Fall2023/blob/main/notebooks/ChatGPT_Q-A.ipynb\" target=\"_parent\"><img src=\"https://colab.research.google.com/assets/colab-badge.svg\" alt=\"Open In Colab\"/></a>"
      ]
    },
    {
      "cell_type": "markdown",
      "metadata": {
        "id": "SDjwFEZHed3K"
      },
      "source": [
        "## Install Dependency"
      ]
    },
    {
      "cell_type": "code",
      "execution_count": 1,
      "metadata": {
        "colab": {
          "base_uri": "https://localhost:8080/"
        },
        "id": "Da5yZ4MfWYc1",
        "outputId": "1c076bbf-acd4-4880-a1f5-68f46b82e813"
      },
      "outputs": [
        {
          "name": "stdout",
          "output_type": "stream",
          "text": [
            "Collecting openai\n",
            "  Downloading openai-0.28.1-py3-none-any.whl (76 kB)\n",
            "     ━━━━━━━━━━━━━━━━━━━━━━━━━━━━━━━━━━━━━━━━ 77.0/77.0 kB 2.1 MB/s eta 0:00:00\n",
            "Requirement already satisfied: requests>=2.20 in /usr/local/lib/python3.10/dist-packages (from openai) (2.31.0)\n",
            "Requirement already satisfied: tqdm in /usr/local/lib/python3.10/dist-packages (from openai) (4.66.1)\n",
            "Requirement already satisfied: aiohttp in /usr/local/lib/python3.10/dist-packages (from openai) (3.8.5)\n",
            "Requirement already satisfied: charset-normalizer<4,>=2 in /usr/local/lib/python3.10/dist-packages (from requests>=2.20->openai) (3.3.0)\n",
            "Requirement already satisfied: idna<4,>=2.5 in /usr/local/lib/python3.10/dist-packages (from requests>=2.20->openai) (3.4)\n",
            "Requirement already satisfied: urllib3<3,>=1.21.1 in /usr/local/lib/python3.10/dist-packages (from requests>=2.20->openai) (2.0.6)\n",
            "Requirement already satisfied: certifi>=2017.4.17 in /usr/local/lib/python3.10/dist-packages (from requests>=2.20->openai) (2023.7.22)\n",
            "Requirement already satisfied: attrs>=17.3.0 in /usr/local/lib/python3.10/dist-packages (from aiohttp->openai) (23.1.0)\n",
            "Requirement already satisfied: multidict<7.0,>=4.5 in /usr/local/lib/python3.10/dist-packages (from aiohttp->openai) (6.0.4)\n",
            "Requirement already satisfied: async-timeout<5.0,>=4.0.0a3 in /usr/local/lib/python3.10/dist-packages (from aiohttp->openai) (4.0.3)\n",
            "Requirement already satisfied: yarl<2.0,>=1.0 in /usr/local/lib/python3.10/dist-packages (from aiohttp->openai) (1.9.2)\n",
            "Requirement already satisfied: frozenlist>=1.1.1 in /usr/local/lib/python3.10/dist-packages (from aiohttp->openai) (1.4.0)\n",
            "Requirement already satisfied: aiosignal>=1.1.2 in /usr/local/lib/python3.10/dist-packages (from aiohttp->openai) (1.3.1)\n",
            "Installing collected packages: openai\n",
            "Successfully installed openai-0.28.1\n"
          ]
        }
      ],
      "source": [
        "%%bash\n",
        "\n",
        "pip install openai"
      ]
    },
    {
      "cell_type": "code",
      "execution_count": 2,
      "metadata": {
        "id": "HpEQBZQOW-ta"
      },
      "outputs": [],
      "source": [
        "import os\n",
        "import getpass\n",
        "import openai"
      ]
    },
    {
      "cell_type": "markdown",
      "metadata": {
        "id": "cTFxjUoWehf-"
      },
      "source": [
        "## OpenAI API Key\n",
        "\n",
        "get the Api key from https://help.openai.com/en/articles/4936850-where-do-i-find-my-secret-api-key"
      ]
    },
    {
      "cell_type": "code",
      "execution_count": 3,
      "metadata": {
        "colab": {
          "base_uri": "https://localhost:8080/"
        },
        "id": "_okbq2gSYUAy",
        "outputId": "4cf499e1-d1cd-4378-ed6b-6112a902afea"
      },
      "outputs": [
        {
          "name": "stdout",
          "output_type": "stream",
          "text": [
            "··········\n"
          ]
        }
      ],
      "source": [
        "os.environ['OPENAI_API_KEY'] = getpass.getpass()"
      ]
    },
    {
      "cell_type": "markdown",
      "metadata": {
        "id": "k5nj3T47e01m"
      },
      "source": [
        "## Define the context / data"
      ]
    },
    {
      "cell_type": "code",
      "execution_count": 4,
      "metadata": {
        "id": "c1oSDlqMXawE"
      },
      "outputs": [],
      "source": [
        "# Source : https://en.wikipedia.org/wiki/2023_Cricket_World_Cup\n",
        "text = \"\"\"\n",
        "The 2023 ICC Men's Cricket World Cup is the 13th edition of the Cricket World Cup, a quadrennial One Day International (ODI) cricket tournament contested by men's national teams and organised by the International Cricket Council (ICC). The tournament is being hosted by India, it started on 5 October and is scheduled to conclude on 19 November 2023. England are the defending champions, having won the 2019 edition by defeating New Zealand in the final at Lord's, London.\n",
        "Ten national teams are participating. All had to qualify for the tournament though the 2023 Cricket World Cup qualification process. India qualified as hosts; Afghanistan, Australia, Bangladesh, England, New Zealand, Pakistan and South Africa qualified via the ICC Cricket World Cup Super League, with the Netherlands and Sri Lanka securing the final two places via the qualifier tournament in Zimbabwe during June and July 2023, with West Indies missing out on qualification for the first time in their history.[1]\n",
        "It is the first men's Cricket World Cup which India is hosting solely. They co-hosted 1987, 1996 and 2011 editions with other nations. The tournament is taking place in ten different stadiums, in ten cities across India. The first and second semi-finals will be held at Wankhede Stadium in Mumbai and Eden Gardens in Kolkata respectively, while the final will take place at Narendra Modi Stadium, Ahmedabad.\n",
        "\"\"\""
      ]
    },
    {
      "cell_type": "code",
      "execution_count": 5,
      "metadata": {
        "id": "XaB5TFbUhlEs"
      },
      "outputs": [],
      "source": [
        "openai.api_key = os.environ.get('OPENAI_API_KEY')"
      ]
    },
    {
      "cell_type": "code",
      "execution_count": 6,
      "metadata": {
        "id": "prd-pVGJlsC0"
      },
      "outputs": [],
      "source": [
        "def ask(text, question):\n",
        "  response = openai.ChatCompletion.create(\n",
        "    model=\"gpt-3.5-turbo\",\n",
        "    messages=[\n",
        "      {\n",
        "        \"role\": \"system\",\n",
        "        \"content\": \"Use the provided articles delimited by triple quotes to answer questions. If the answer cannot be found in the articles, write \\\"I could not find an answer.\\\"\"\n",
        "      },\n",
        "      {\n",
        "        \"role\": \"user\",\n",
        "        \"content\": f\"\\\"\\\"\\\"\\n{text}\\n\\\"\\\"\\\"\\n\\nQuestion: {question}\"\n",
        "      }\n",
        "    ],\n",
        "    max_tokens=256,\n",
        "    top_p=1,\n",
        "    frequency_penalty=0,\n",
        "    presence_penalty=0\n",
        "  )\n",
        "  print(\"===================\")\n",
        "  print(response)\n",
        "  print(\"===================\")\n",
        "  print(response['choices'][0]['message']['content'])\n",
        "  print(\"===================\")\n"
      ]
    },
    {
      "cell_type": "code",
      "execution_count": 7,
      "metadata": {
        "colab": {
          "base_uri": "https://localhost:8080/"
        },
        "id": "kIj1Yo1umRDv",
        "outputId": "66378684-b3c4-4d69-8415-7bb77e2cf730"
      },
      "outputs": [
        {
          "name": "stdout",
          "output_type": "stream",
          "text": [
            "===================\n",
            "{\n",
            "  \"id\": \"chatcmpl-88Y6pyL23hyB6rYhqE7f4rr4R8TKz\",\n",
            "  \"object\": \"chat.completion\",\n",
            "  \"created\": 1697048431,\n",
            "  \"model\": \"gpt-3.5-turbo-0613\",\n",
            "  \"choices\": [\n",
            "    {\n",
            "      \"index\": 0,\n",
            "      \"message\": {\n",
            "        \"role\": \"assistant\",\n",
            "        \"content\": \"India is hosting the 2023 ICC Men's Cricket World Cup.\"\n",
            "      },\n",
            "      \"finish_reason\": \"stop\"\n",
            "    }\n",
            "  ],\n",
            "  \"usage\": {\n",
            "    \"prompt_tokens\": 344,\n",
            "    \"completion_tokens\": 14,\n",
            "    \"total_tokens\": 358\n",
            "  }\n",
            "}\n",
            "===================\n",
            "India is hosting the 2023 ICC Men's Cricket World Cup.\n",
            "===================\n"
          ]
        }
      ],
      "source": [
        "response = ask(text, \"Which country is hosting the world cup?\")"
      ]
    },
    {
      "cell_type": "code",
      "execution_count": 8,
      "metadata": {
        "colab": {
          "base_uri": "https://localhost:8080/"
        },
        "id": "mLWubnoJnDR6",
        "outputId": "4c123db2-34c5-46df-a29b-66d49ef738be"
      },
      "outputs": [
        {
          "name": "stdout",
          "output_type": "stream",
          "text": [
            "===================\n",
            "{\n",
            "  \"id\": \"chatcmpl-88Y7CW0LXsVCQdgqTlPvuBPboQqfO\",\n",
            "  \"object\": \"chat.completion\",\n",
            "  \"created\": 1697048454,\n",
            "  \"model\": \"gpt-3.5-turbo-0613\",\n",
            "  \"choices\": [\n",
            "    {\n",
            "      \"index\": 0,\n",
            "      \"message\": {\n",
            "        \"role\": \"assistant\",\n",
            "        \"content\": \"I could not find an answer.\"\n",
            "      },\n",
            "      \"finish_reason\": \"stop\"\n",
            "    }\n",
            "  ],\n",
            "  \"usage\": {\n",
            "    \"prompt_tokens\": 346,\n",
            "    \"completion_tokens\": 7,\n",
            "    \"total_tokens\": 353\n",
            "  }\n",
            "}\n",
            "===================\n",
            "I could not find an answer.\n",
            "===================\n"
          ]
        }
      ],
      "source": [
        "response = ask(text, \"When did the apollo 11 reached moon?\")"
      ]
    },
    {
      "cell_type": "code",
      "execution_count": null,
      "metadata": {
        "id": "5EAj-8XF-GOR"
      },
      "outputs": [],
      "source": []
    }
  ],
  "metadata": {
    "colab": {
      "authorship_tag": "ABX9TyNdjTsIhIgFp1MPQw7fzCj6",
      "include_colab_link": true,
      "provenance": []
    },
    "kernelspec": {
      "display_name": "Python 3",
      "name": "python3"
    },
    "language_info": {
      "name": "python"
    }
  },
  "nbformat": 4,
  "nbformat_minor": 0
}
